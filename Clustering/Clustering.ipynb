{
 "cells": [
  {
   "cell_type": "code",
   "execution_count": 2,
   "id": "946032ae",
   "metadata": {},
   "outputs": [],
   "source": [
    "import pandas as pd\n",
    "import numpy as np\n",
    "import matplotlib.pyplot as plt\n",
    "import seaborn as sns\n",
    "import missingno as msno\n",
    "import category_encoders as ce\n",
    "\n",
    "%matplotlib inline\n",
    "sns.set_style(\"whitegrid\")\n",
    "plt.style.use(\"fivethirtyeight\")"
   ]
  },
  {
   "cell_type": "code",
   "execution_count": 3,
   "id": "79786221",
   "metadata": {},
   "outputs": [],
   "source": [
    "df = pd.read_csv(r'C:\\Users\\ibead\\Desktop\\updated data eureka.csv')"
   ]
  },
  {
   "cell_type": "code",
   "execution_count": 4,
   "id": "2cee0b9b",
   "metadata": {},
   "outputs": [],
   "source": [
    "newdf = df.sample(frac = 0.30)"
   ]
  },
  {
   "cell_type": "code",
   "execution_count": 5,
   "id": "d821e419",
   "metadata": {},
   "outputs": [],
   "source": [
    "missingdf= ['bounces_hist', 'help_me_buy_evt_count_hist','pageviews_hist','paid_hist','phone_clicks_evt_count_hist',\n",
    "'sessions_hist','visited_air_purifier_page_hist','visited_checkout_page_hist','visited_contactus_hist','visited_customer_service_amc_login_hist',\n",
    "'visited_customer_service_request_login_hist','visited_demo_page_hist','visited_offer_page_hist','visited_security_solutions_page_hist',\n",
    "'visited_storelocator_hist','visited_vacuum_cleaner_page_hist','visited_water_purifier_page_hist','sessionDuration_hist']"
   ]
  },
  {
   "cell_type": "code",
   "execution_count": 6,
   "id": "7cb600f3",
   "metadata": {},
   "outputs": [
    {
     "name": "stderr",
     "output_type": "stream",
     "text": [
      "C:\\Users\\ibead\\AppData\\Local\\Temp/ipykernel_16500/1359994778.py:2: FutureWarning: Dropping of nuisance columns in DataFrame reductions (with 'numeric_only=None') is deprecated; in a future version this will raise TypeError.  Select only valid columns before calling the reduction.\n",
      "  newdf[missingdf]=newdf[missingdf].fillna(newdf.median().iloc[0])\n"
     ]
    }
   ],
   "source": [
    "#Imputing Missing Data Columns with Median \n",
    "newdf[missingdf]=newdf[missingdf].fillna(newdf.median().iloc[0])"
   ]
  },
  {
   "cell_type": "code",
   "execution_count": 7,
   "id": "18f4e8a1",
   "metadata": {},
   "outputs": [],
   "source": [
    "def CombineRareCategories(newdf, mincount):\n",
    "    for col in newdf.columns:\n",
    "        if (type(newdf[col][0]) == str):\n",
    "            for index, row in pd.DataFrame(newdf[col].value_counts()).iterrows():\n",
    "                if ( row[0] < mincount):\n",
    "                    newdf[col].replace(index, 'Other_' + col, inplace = True)\n",
    "                else:\n",
    "                    None\n",
    "\n",
    "# lets apply this functino to our data with mincount=10                    \n",
    "\n",
    "CombineRareCategories(df, 500)        \n"
   ]
  },
  {
   "cell_type": "code",
   "execution_count": 8,
   "id": "fa455574",
   "metadata": {},
   "outputs": [
    {
     "data": {
      "text/plain": [
       "country          2\n",
       "date            60\n",
       "device           3\n",
       "region          27\n",
       "sourceMedium     8\n",
       "dtype: int64"
      ]
     },
     "execution_count": 8,
     "metadata": {},
     "output_type": "execute_result"
    }
   ],
   "source": [
    "df.select_dtypes([\"object\"]).nunique()"
   ]
  },
  {
   "cell_type": "code",
   "execution_count": 9,
   "id": "d6b3a9f0",
   "metadata": {},
   "outputs": [],
   "source": [
    "df['region']= df['region'].replace({'(not set)':'Other_region'})"
   ]
  },
  {
   "cell_type": "code",
   "execution_count": 10,
   "id": "38e2c7ff",
   "metadata": {},
   "outputs": [
    {
     "data": {
      "text/html": [
       "<div>\n",
       "<style scoped>\n",
       "    .dataframe tbody tr th:only-of-type {\n",
       "        vertical-align: middle;\n",
       "    }\n",
       "\n",
       "    .dataframe tbody tr th {\n",
       "        vertical-align: top;\n",
       "    }\n",
       "\n",
       "    .dataframe thead th {\n",
       "        text-align: right;\n",
       "    }\n",
       "</style>\n",
       "<table border=\"1\" class=\"dataframe\">\n",
       "  <thead>\n",
       "    <tr style=\"text-align: right;\">\n",
       "      <th></th>\n",
       "      <th>DemoReqPg_CallClicks_evt_count</th>\n",
       "      <th>air_purifier_page_top</th>\n",
       "      <th>bounces</th>\n",
       "      <th>bounces_hist</th>\n",
       "      <th>checkout_page_top</th>\n",
       "      <th>client_id</th>\n",
       "      <th>contactus_top</th>\n",
       "      <th>converted_in_7days</th>\n",
       "      <th>country</th>\n",
       "      <th>customer_service_amc_login_top</th>\n",
       "      <th>...</th>\n",
       "      <th>visited_security_solutions_page</th>\n",
       "      <th>visited_security_solutions_page_hist</th>\n",
       "      <th>visited_storelocator</th>\n",
       "      <th>visited_storelocator_hist</th>\n",
       "      <th>visited_successbookdemo</th>\n",
       "      <th>visited_vacuum_cleaner_page</th>\n",
       "      <th>visited_vacuum_cleaner_page_hist</th>\n",
       "      <th>visited_water_purifier_page</th>\n",
       "      <th>visited_water_purifier_page_hist</th>\n",
       "      <th>water_purifier_page_top</th>\n",
       "    </tr>\n",
       "  </thead>\n",
       "  <tbody>\n",
       "    <tr>\n",
       "      <th>0</th>\n",
       "      <td>0</td>\n",
       "      <td>0</td>\n",
       "      <td>2</td>\n",
       "      <td>NaN</td>\n",
       "      <td>0</td>\n",
       "      <td>2924.154466</td>\n",
       "      <td>0</td>\n",
       "      <td>0</td>\n",
       "      <td>d</td>\n",
       "      <td>0</td>\n",
       "      <td>...</td>\n",
       "      <td>0</td>\n",
       "      <td>NaN</td>\n",
       "      <td>0</td>\n",
       "      <td>NaN</td>\n",
       "      <td>0</td>\n",
       "      <td>0</td>\n",
       "      <td>NaN</td>\n",
       "      <td>0</td>\n",
       "      <td>NaN</td>\n",
       "      <td>0</td>\n",
       "    </tr>\n",
       "    <tr>\n",
       "      <th>1</th>\n",
       "      <td>0</td>\n",
       "      <td>47</td>\n",
       "      <td>0</td>\n",
       "      <td>0.0</td>\n",
       "      <td>0</td>\n",
       "      <td>5987.154867</td>\n",
       "      <td>0</td>\n",
       "      <td>0</td>\n",
       "      <td>d</td>\n",
       "      <td>0</td>\n",
       "      <td>...</td>\n",
       "      <td>0</td>\n",
       "      <td>0.0</td>\n",
       "      <td>0</td>\n",
       "      <td>0.0</td>\n",
       "      <td>0</td>\n",
       "      <td>0</td>\n",
       "      <td>0.0</td>\n",
       "      <td>1</td>\n",
       "      <td>0.0</td>\n",
       "      <td>372</td>\n",
       "    </tr>\n",
       "    <tr>\n",
       "      <th>2</th>\n",
       "      <td>0</td>\n",
       "      <td>0</td>\n",
       "      <td>1</td>\n",
       "      <td>0.0</td>\n",
       "      <td>0</td>\n",
       "      <td>12468.154940</td>\n",
       "      <td>0</td>\n",
       "      <td>0</td>\n",
       "      <td>d</td>\n",
       "      <td>0</td>\n",
       "      <td>...</td>\n",
       "      <td>0</td>\n",
       "      <td>0.0</td>\n",
       "      <td>0</td>\n",
       "      <td>0.0</td>\n",
       "      <td>0</td>\n",
       "      <td>0</td>\n",
       "      <td>0.0</td>\n",
       "      <td>0</td>\n",
       "      <td>0.0</td>\n",
       "      <td>0</td>\n",
       "    </tr>\n",
       "    <tr>\n",
       "      <th>3</th>\n",
       "      <td>0</td>\n",
       "      <td>0</td>\n",
       "      <td>0</td>\n",
       "      <td>NaN</td>\n",
       "      <td>0</td>\n",
       "      <td>13217.154960</td>\n",
       "      <td>0</td>\n",
       "      <td>0</td>\n",
       "      <td>d</td>\n",
       "      <td>0</td>\n",
       "      <td>...</td>\n",
       "      <td>0</td>\n",
       "      <td>NaN</td>\n",
       "      <td>0</td>\n",
       "      <td>NaN</td>\n",
       "      <td>0</td>\n",
       "      <td>0</td>\n",
       "      <td>NaN</td>\n",
       "      <td>1</td>\n",
       "      <td>NaN</td>\n",
       "      <td>398</td>\n",
       "    </tr>\n",
       "    <tr>\n",
       "      <th>4</th>\n",
       "      <td>0</td>\n",
       "      <td>139</td>\n",
       "      <td>2</td>\n",
       "      <td>0.0</td>\n",
       "      <td>29</td>\n",
       "      <td>13217.154960</td>\n",
       "      <td>0</td>\n",
       "      <td>0</td>\n",
       "      <td>d</td>\n",
       "      <td>0</td>\n",
       "      <td>...</td>\n",
       "      <td>0</td>\n",
       "      <td>0.0</td>\n",
       "      <td>0</td>\n",
       "      <td>0.0</td>\n",
       "      <td>0</td>\n",
       "      <td>0</td>\n",
       "      <td>0.0</td>\n",
       "      <td>0</td>\n",
       "      <td>1.0</td>\n",
       "      <td>0</td>\n",
       "    </tr>\n",
       "  </tbody>\n",
       "</table>\n",
       "<p>5 rows × 63 columns</p>\n",
       "</div>"
      ],
      "text/plain": [
       "   DemoReqPg_CallClicks_evt_count  air_purifier_page_top  bounces  \\\n",
       "0                               0                      0        2   \n",
       "1                               0                     47        0   \n",
       "2                               0                      0        1   \n",
       "3                               0                      0        0   \n",
       "4                               0                    139        2   \n",
       "\n",
       "   bounces_hist  checkout_page_top     client_id  contactus_top  \\\n",
       "0           NaN                  0   2924.154466              0   \n",
       "1           0.0                  0   5987.154867              0   \n",
       "2           0.0                  0  12468.154940              0   \n",
       "3           NaN                  0  13217.154960              0   \n",
       "4           0.0                 29  13217.154960              0   \n",
       "\n",
       "   converted_in_7days country  customer_service_amc_login_top  ...  \\\n",
       "0                   0       d                               0  ...   \n",
       "1                   0       d                               0  ...   \n",
       "2                   0       d                               0  ...   \n",
       "3                   0       d                               0  ...   \n",
       "4                   0       d                               0  ...   \n",
       "\n",
       "   visited_security_solutions_page visited_security_solutions_page_hist  \\\n",
       "0                                0                                  NaN   \n",
       "1                                0                                  0.0   \n",
       "2                                0                                  0.0   \n",
       "3                                0                                  NaN   \n",
       "4                                0                                  0.0   \n",
       "\n",
       "   visited_storelocator visited_storelocator_hist  visited_successbookdemo  \\\n",
       "0                     0                       NaN                        0   \n",
       "1                     0                       0.0                        0   \n",
       "2                     0                       0.0                        0   \n",
       "3                     0                       NaN                        0   \n",
       "4                     0                       0.0                        0   \n",
       "\n",
       "   visited_vacuum_cleaner_page  visited_vacuum_cleaner_page_hist  \\\n",
       "0                            0                               NaN   \n",
       "1                            0                               0.0   \n",
       "2                            0                               0.0   \n",
       "3                            0                               NaN   \n",
       "4                            0                               0.0   \n",
       "\n",
       "   visited_water_purifier_page  visited_water_purifier_page_hist  \\\n",
       "0                            0                               NaN   \n",
       "1                            1                               0.0   \n",
       "2                            0                               0.0   \n",
       "3                            1                               NaN   \n",
       "4                            0                               1.0   \n",
       "\n",
       "   water_purifier_page_top  \n",
       "0                        0  \n",
       "1                      372  \n",
       "2                        0  \n",
       "3                      398  \n",
       "4                        0  \n",
       "\n",
       "[5 rows x 63 columns]"
      ]
     },
     "execution_count": 10,
     "metadata": {},
     "output_type": "execute_result"
    }
   ],
   "source": [
    "df.head()"
   ]
  },
  {
   "cell_type": "code",
   "execution_count": 11,
   "id": "1de75c95",
   "metadata": {},
   "outputs": [
    {
     "name": "stderr",
     "output_type": "stream",
     "text": [
      "C:\\Users\\ibead\\AppData\\Local\\Temp/ipykernel_16500/2922223773.py:2: FutureWarning: Dropping of nuisance columns in DataFrame reductions (with 'numeric_only=None') is deprecated; in a future version this will raise TypeError.  Select only valid columns before calling the reduction.\n",
      "  df[missingdf]=df[missingdf].fillna(df.median().iloc[0])\n"
     ]
    }
   ],
   "source": [
    "#Imputing Missing Data Columns with Median \n",
    "df[missingdf]=df[missingdf].fillna(df.median().iloc[0])"
   ]
  },
  {
   "cell_type": "code",
   "execution_count": 12,
   "id": "107e2397",
   "metadata": {},
   "outputs": [],
   "source": [
    "df = df.drop('date', axis = 1)"
   ]
  },
  {
   "cell_type": "code",
   "execution_count": 13,
   "id": "d68e2b36",
   "metadata": {},
   "outputs": [],
   "source": [
    "df = df.drop('client_id', axis = 1)"
   ]
  },
  {
   "cell_type": "code",
   "execution_count": 14,
   "id": "3d7806fb",
   "metadata": {},
   "outputs": [],
   "source": [
    "X = df.drop('converted_in_7days', axis =1)\n",
    "y = df['converted_in_7days']"
   ]
  },
  {
   "cell_type": "code",
   "execution_count": 15,
   "id": "2b48073d",
   "metadata": {},
   "outputs": [],
   "source": [
    "from collections import Counter"
   ]
  },
  {
   "cell_type": "code",
   "execution_count": 16,
   "id": "46251858",
   "metadata": {},
   "outputs": [],
   "source": [
    "from sklearn.datasets import make_classification"
   ]
  },
  {
   "cell_type": "code",
   "execution_count": 17,
   "id": "3e31e8a5",
   "metadata": {},
   "outputs": [],
   "source": [
    "from imblearn.over_sampling import SMOTE"
   ]
  },
  {
   "cell_type": "code",
   "execution_count": 18,
   "id": "6aa6d51a",
   "metadata": {},
   "outputs": [],
   "source": [
    "from numpy import where"
   ]
  },
  {
   "cell_type": "code",
   "execution_count": 1,
   "id": "e01aa397",
   "metadata": {},
   "outputs": [
    {
     "ename": "NameError",
     "evalue": "name 'Counter' is not defined",
     "output_type": "error",
     "traceback": [
      "\u001b[1;31m---------------------------------------------------------------------------\u001b[0m",
      "\u001b[1;31mNameError\u001b[0m                                 Traceback (most recent call last)",
      "\u001b[1;32m~\\AppData\\Local\\Temp/ipykernel_2080/3741557141.py\u001b[0m in \u001b[0;36m<module>\u001b[1;34m\u001b[0m\n\u001b[1;32m----> 1\u001b[1;33m \u001b[0mcounter\u001b[0m \u001b[1;33m=\u001b[0m \u001b[0mCounter\u001b[0m\u001b[1;33m(\u001b[0m\u001b[0my\u001b[0m\u001b[1;33m)\u001b[0m\u001b[1;33m\u001b[0m\u001b[1;33m\u001b[0m\u001b[0m\n\u001b[0m\u001b[0;32m      2\u001b[0m \u001b[0mprint\u001b[0m\u001b[1;33m(\u001b[0m\u001b[0mcounter\u001b[0m\u001b[1;33m)\u001b[0m\u001b[1;33m\u001b[0m\u001b[1;33m\u001b[0m\u001b[0m\n",
      "\u001b[1;31mNameError\u001b[0m: name 'Counter' is not defined"
     ]
    }
   ],
   "source": [
    "counter = Counter(y)\n",
    "print(counter)"
   ]
  },
  {
   "cell_type": "code",
   "execution_count": 23,
   "id": "831558be",
   "metadata": {},
   "outputs": [],
   "source": [
    "# transform the dataset\n",
    "oversample = SMOTE()\n",
    "X_transformed, y = oversample.fit_resample(X_transformed, y)"
   ]
  },
  {
   "cell_type": "code",
   "execution_count": 21,
   "id": "f5847c19",
   "metadata": {},
   "outputs": [],
   "source": [
    "encoder = ce.CatBoostEncoder(cols=['region','sourceMedium','country','device'])"
   ]
  },
  {
   "cell_type": "code",
   "execution_count": 22,
   "id": "3f7c5478",
   "metadata": {},
   "outputs": [
    {
     "name": "stderr",
     "output_type": "stream",
     "text": [
      "c:\\users\\ibead\\appdata\\local\\programs\\python\\python39\\lib\\site-packages\\category_encoders\\utils.py:21: FutureWarning: is_categorical is deprecated and will be removed in a future version.  Use is_categorical_dtype instead\n",
      "  elif pd.api.types.is_categorical(cols):\n"
     ]
    }
   ],
   "source": [
    "X_transformed = encoder.fit_transform (X,y)"
   ]
  },
  {
   "cell_type": "code",
   "execution_count": 24,
   "id": "0ffeed96",
   "metadata": {
    "scrolled": true
   },
   "outputs": [
    {
     "data": {
      "text/html": [
       "<div>\n",
       "<style scoped>\n",
       "    .dataframe tbody tr th:only-of-type {\n",
       "        vertical-align: middle;\n",
       "    }\n",
       "\n",
       "    .dataframe tbody tr th {\n",
       "        vertical-align: top;\n",
       "    }\n",
       "\n",
       "    .dataframe thead th {\n",
       "        text-align: right;\n",
       "    }\n",
       "</style>\n",
       "<table border=\"1\" class=\"dataframe\">\n",
       "  <thead>\n",
       "    <tr style=\"text-align: right;\">\n",
       "      <th></th>\n",
       "      <th>DemoReqPg_CallClicks_evt_count</th>\n",
       "      <th>air_purifier_page_top</th>\n",
       "      <th>bounces</th>\n",
       "      <th>bounces_hist</th>\n",
       "      <th>checkout_page_top</th>\n",
       "      <th>contactus_top</th>\n",
       "      <th>country</th>\n",
       "      <th>customer_service_amc_login_top</th>\n",
       "      <th>customer_service_request_login_top</th>\n",
       "      <th>demo_page_top</th>\n",
       "      <th>...</th>\n",
       "      <th>visited_security_solutions_page</th>\n",
       "      <th>visited_security_solutions_page_hist</th>\n",
       "      <th>visited_storelocator</th>\n",
       "      <th>visited_storelocator_hist</th>\n",
       "      <th>visited_successbookdemo</th>\n",
       "      <th>visited_vacuum_cleaner_page</th>\n",
       "      <th>visited_vacuum_cleaner_page_hist</th>\n",
       "      <th>visited_water_purifier_page</th>\n",
       "      <th>visited_water_purifier_page_hist</th>\n",
       "      <th>water_purifier_page_top</th>\n",
       "    </tr>\n",
       "  </thead>\n",
       "  <tbody>\n",
       "    <tr>\n",
       "      <th>0</th>\n",
       "      <td>0</td>\n",
       "      <td>0</td>\n",
       "      <td>2</td>\n",
       "      <td>0.0</td>\n",
       "      <td>0</td>\n",
       "      <td>0</td>\n",
       "      <td>0.003990</td>\n",
       "      <td>0</td>\n",
       "      <td>0</td>\n",
       "      <td>87</td>\n",
       "      <td>...</td>\n",
       "      <td>0</td>\n",
       "      <td>0.0</td>\n",
       "      <td>0</td>\n",
       "      <td>0.0</td>\n",
       "      <td>0</td>\n",
       "      <td>0</td>\n",
       "      <td>0.0</td>\n",
       "      <td>0</td>\n",
       "      <td>0.0</td>\n",
       "      <td>0</td>\n",
       "    </tr>\n",
       "    <tr>\n",
       "      <th>1</th>\n",
       "      <td>0</td>\n",
       "      <td>47</td>\n",
       "      <td>0</td>\n",
       "      <td>0.0</td>\n",
       "      <td>0</td>\n",
       "      <td>0</td>\n",
       "      <td>0.001995</td>\n",
       "      <td>0</td>\n",
       "      <td>0</td>\n",
       "      <td>0</td>\n",
       "      <td>...</td>\n",
       "      <td>0</td>\n",
       "      <td>0.0</td>\n",
       "      <td>0</td>\n",
       "      <td>0.0</td>\n",
       "      <td>0</td>\n",
       "      <td>0</td>\n",
       "      <td>0.0</td>\n",
       "      <td>1</td>\n",
       "      <td>0.0</td>\n",
       "      <td>372</td>\n",
       "    </tr>\n",
       "    <tr>\n",
       "      <th>2</th>\n",
       "      <td>0</td>\n",
       "      <td>0</td>\n",
       "      <td>1</td>\n",
       "      <td>0.0</td>\n",
       "      <td>0</td>\n",
       "      <td>0</td>\n",
       "      <td>0.001330</td>\n",
       "      <td>0</td>\n",
       "      <td>0</td>\n",
       "      <td>5</td>\n",
       "      <td>...</td>\n",
       "      <td>0</td>\n",
       "      <td>0.0</td>\n",
       "      <td>0</td>\n",
       "      <td>0.0</td>\n",
       "      <td>0</td>\n",
       "      <td>0</td>\n",
       "      <td>0.0</td>\n",
       "      <td>0</td>\n",
       "      <td>0.0</td>\n",
       "      <td>0</td>\n",
       "    </tr>\n",
       "    <tr>\n",
       "      <th>3</th>\n",
       "      <td>0</td>\n",
       "      <td>0</td>\n",
       "      <td>0</td>\n",
       "      <td>0.0</td>\n",
       "      <td>0</td>\n",
       "      <td>0</td>\n",
       "      <td>0.000997</td>\n",
       "      <td>0</td>\n",
       "      <td>0</td>\n",
       "      <td>7</td>\n",
       "      <td>...</td>\n",
       "      <td>0</td>\n",
       "      <td>0.0</td>\n",
       "      <td>0</td>\n",
       "      <td>0.0</td>\n",
       "      <td>0</td>\n",
       "      <td>0</td>\n",
       "      <td>0.0</td>\n",
       "      <td>1</td>\n",
       "      <td>0.0</td>\n",
       "      <td>398</td>\n",
       "    </tr>\n",
       "    <tr>\n",
       "      <th>4</th>\n",
       "      <td>0</td>\n",
       "      <td>139</td>\n",
       "      <td>2</td>\n",
       "      <td>0.0</td>\n",
       "      <td>29</td>\n",
       "      <td>0</td>\n",
       "      <td>0.000798</td>\n",
       "      <td>0</td>\n",
       "      <td>0</td>\n",
       "      <td>0</td>\n",
       "      <td>...</td>\n",
       "      <td>0</td>\n",
       "      <td>0.0</td>\n",
       "      <td>0</td>\n",
       "      <td>0.0</td>\n",
       "      <td>0</td>\n",
       "      <td>0</td>\n",
       "      <td>0.0</td>\n",
       "      <td>0</td>\n",
       "      <td>1.0</td>\n",
       "      <td>0</td>\n",
       "    </tr>\n",
       "  </tbody>\n",
       "</table>\n",
       "<p>5 rows × 60 columns</p>\n",
       "</div>"
      ],
      "text/plain": [
       "   DemoReqPg_CallClicks_evt_count  air_purifier_page_top  bounces  \\\n",
       "0                               0                      0        2   \n",
       "1                               0                     47        0   \n",
       "2                               0                      0        1   \n",
       "3                               0                      0        0   \n",
       "4                               0                    139        2   \n",
       "\n",
       "   bounces_hist  checkout_page_top  contactus_top   country  \\\n",
       "0           0.0                  0              0  0.003990   \n",
       "1           0.0                  0              0  0.001995   \n",
       "2           0.0                  0              0  0.001330   \n",
       "3           0.0                  0              0  0.000997   \n",
       "4           0.0                 29              0  0.000798   \n",
       "\n",
       "   customer_service_amc_login_top  customer_service_request_login_top  \\\n",
       "0                               0                                   0   \n",
       "1                               0                                   0   \n",
       "2                               0                                   0   \n",
       "3                               0                                   0   \n",
       "4                               0                                   0   \n",
       "\n",
       "   demo_page_top  ...  visited_security_solutions_page  \\\n",
       "0             87  ...                                0   \n",
       "1              0  ...                                0   \n",
       "2              5  ...                                0   \n",
       "3              7  ...                                0   \n",
       "4              0  ...                                0   \n",
       "\n",
       "   visited_security_solutions_page_hist  visited_storelocator  \\\n",
       "0                                   0.0                     0   \n",
       "1                                   0.0                     0   \n",
       "2                                   0.0                     0   \n",
       "3                                   0.0                     0   \n",
       "4                                   0.0                     0   \n",
       "\n",
       "   visited_storelocator_hist  visited_successbookdemo  \\\n",
       "0                        0.0                        0   \n",
       "1                        0.0                        0   \n",
       "2                        0.0                        0   \n",
       "3                        0.0                        0   \n",
       "4                        0.0                        0   \n",
       "\n",
       "   visited_vacuum_cleaner_page  visited_vacuum_cleaner_page_hist  \\\n",
       "0                            0                               0.0   \n",
       "1                            0                               0.0   \n",
       "2                            0                               0.0   \n",
       "3                            0                               0.0   \n",
       "4                            0                               0.0   \n",
       "\n",
       "   visited_water_purifier_page  visited_water_purifier_page_hist  \\\n",
       "0                            0                               0.0   \n",
       "1                            1                               0.0   \n",
       "2                            0                               0.0   \n",
       "3                            1                               0.0   \n",
       "4                            0                               1.0   \n",
       "\n",
       "   water_purifier_page_top  \n",
       "0                        0  \n",
       "1                      372  \n",
       "2                        0  \n",
       "3                      398  \n",
       "4                        0  \n",
       "\n",
       "[5 rows x 60 columns]"
      ]
     },
     "execution_count": 24,
     "metadata": {},
     "output_type": "execute_result"
    }
   ],
   "source": [
    "X_transformed.head()"
   ]
  },
  {
   "cell_type": "markdown",
   "id": "c73c9b6b",
   "metadata": {},
   "source": [
    "##### Decision Tree"
   ]
  },
  {
   "cell_type": "code",
   "execution_count": 25,
   "id": "ebd41c5c",
   "metadata": {},
   "outputs": [],
   "source": [
    "from sklearn.model_selection import train_test_split \n",
    "X_train, X_test, y_train, y_test = train_test_split(X_transformed,y,test_size = 0.20)"
   ]
  },
  {
   "cell_type": "code",
   "execution_count": 26,
   "id": "2694a168",
   "metadata": {
    "scrolled": true
   },
   "outputs": [],
   "source": [
    "from sklearn.tree import DecisionTreeClassifier\n",
    "\n"
   ]
  },
  {
   "cell_type": "code",
   "execution_count": 27,
   "id": "e87ce6f2",
   "metadata": {},
   "outputs": [
    {
     "data": {
      "text/plain": [
       "sklearn.tree._classes.DecisionTreeClassifier"
      ]
     },
     "execution_count": 27,
     "metadata": {},
     "output_type": "execute_result"
    }
   ],
   "source": [
    "DecisionTreeClassifier"
   ]
  },
  {
   "cell_type": "code",
   "execution_count": 28,
   "id": "9074649b",
   "metadata": {},
   "outputs": [],
   "source": [
    "dt = DecisionTreeClassifier()"
   ]
  },
  {
   "cell_type": "code",
   "execution_count": 29,
   "id": "bcdc560f",
   "metadata": {},
   "outputs": [
    {
     "data": {
      "text/plain": [
       "DecisionTreeClassifier()"
      ]
     },
     "execution_count": 29,
     "metadata": {},
     "output_type": "execute_result"
    }
   ],
   "source": [
    "dt.fit(X_train, y_train) "
   ]
  },
  {
   "cell_type": "code",
   "execution_count": 30,
   "id": "a069bdbf",
   "metadata": {},
   "outputs": [],
   "source": [
    "dt_preds = dt.predict(X_test)"
   ]
  },
  {
   "cell_type": "code",
   "execution_count": 31,
   "id": "cea189d2",
   "metadata": {},
   "outputs": [],
   "source": [
    "from sklearn.metrics import classification_report, confusion_matrix,accuracy_score, f1_score, recall_score, precision_score, roc_auc_score"
   ]
  },
  {
   "cell_type": "code",
   "execution_count": 33,
   "id": "df823726",
   "metadata": {},
   "outputs": [
    {
     "name": "stdout",
     "output_type": "stream",
     "text": [
      "0.9785959120085437\n"
     ]
    }
   ],
   "source": [
    "print(f1_score (y_test,dt_preds, average = \"macro\"))"
   ]
  },
  {
   "cell_type": "code",
   "execution_count": 34,
   "id": "f1442005",
   "metadata": {},
   "outputs": [],
   "source": [
    "from sklearn.model_selection import GridSearchCV "
   ]
  },
  {
   "cell_type": "code",
   "execution_count": 38,
   "id": "d3b1fe94",
   "metadata": {},
   "outputs": [],
   "source": [
    "paramgrid = { \n",
    "          \"criterion\" : [\"gini\", \"entropy\"],\n",
    "          \"max_depth\" : [5,15]\n",
    "}\n",
    "\n",
    "\n",
    "dt_Grid = GridSearchCV(dt,param_grid=paramgrid,cv = 5,scoring = \"f1_macro\" )\n",
    "\n",
    "dt_Grid_Model = dt_Grid.fit(X_train,y_train)"
   ]
  },
  {
   "cell_type": "code",
   "execution_count": 39,
   "id": "5e94ad36",
   "metadata": {},
   "outputs": [
    {
     "name": "stdout",
     "output_type": "stream",
     "text": [
      "0.8552969604280236\n",
      "{'criterion': 'gini', 'max_depth': 15}\n"
     ]
    }
   ],
   "source": [
    "print (dt_Grid_Model.best_score_)\n",
    "print (dt_Grid_Model.best_params_)"
   ]
  },
  {
   "cell_type": "code",
   "execution_count": 40,
   "id": "fef76719",
   "metadata": {},
   "outputs": [],
   "source": [
    "paramgrid_2 = { \n",
    "          \"criterion\" : [\"gini\", \"entropy\"],\n",
    "          \"max_depth\" : [10, 15, 20],\n",
    "          \"class_weight\" : [\"balanced\", None]\n",
    "}\n",
    "\n",
    "\n",
    "dt_Grid2 = GridSearchCV(dt,param_grid=paramgrid_2,cv = 5,scoring = \"f1_macro\" )\n",
    "\n",
    "dt_Grid_Model2 = dt_Grid2.fit(X_train,y_train)"
   ]
  },
  {
   "cell_type": "code",
   "execution_count": 41,
   "id": "0ca553e7",
   "metadata": {},
   "outputs": [
    {
     "name": "stdout",
     "output_type": "stream",
     "text": [
      "0.9146920337362232\n",
      "{'class_weight': None, 'criterion': 'gini', 'max_depth': 20}\n"
     ]
    }
   ],
   "source": [
    "print (dt_Grid_Model2.best_score_)\n",
    "print (dt_Grid_Model2.best_params_)"
   ]
  },
  {
   "cell_type": "code",
   "execution_count": 42,
   "id": "7a8248d5",
   "metadata": {},
   "outputs": [],
   "source": [
    "paramgrid_3 = { \n",
    "          \"criterion\" : [\"gini\", \"entropy\"],\n",
    "          \"max_depth\" : [25,30,35]\n",
    "}\n",
    "\n",
    "\n",
    "dt_Grid3 = GridSearchCV(dt,param_grid=paramgrid_3,cv = 5,scoring = \"f1_macro\" )\n",
    "\n",
    "dt_Grid_Model3 = dt_Grid3.fit(X_train,y_train)"
   ]
  },
  {
   "cell_type": "code",
   "execution_count": 43,
   "id": "cfa2da4a",
   "metadata": {},
   "outputs": [
    {
     "name": "stdout",
     "output_type": "stream",
     "text": [
      "0.9760008403620903\n",
      "{'criterion': 'entropy', 'max_depth': 35}\n"
     ]
    }
   ],
   "source": [
    "print (dt_Grid_Model3.best_score_)\n",
    "print (dt_Grid_Model3.best_params_)"
   ]
  },
  {
   "cell_type": "markdown",
   "id": "ee227917",
   "metadata": {},
   "source": [
    "### Random Forest"
   ]
  },
  {
   "cell_type": "code",
   "execution_count": 44,
   "id": "ff73584b",
   "metadata": {},
   "outputs": [],
   "source": [
    " from sklearn.ensemble import RandomForestClassifier"
   ]
  },
  {
   "cell_type": "code",
   "execution_count": 45,
   "id": "da009ee4",
   "metadata": {},
   "outputs": [],
   "source": [
    "rf = RandomForestClassifier()"
   ]
  },
  {
   "cell_type": "code",
   "execution_count": 46,
   "id": "716bfd02",
   "metadata": {},
   "outputs": [
    {
     "data": {
      "text/plain": [
       "RandomForestClassifier()"
      ]
     },
     "execution_count": 46,
     "metadata": {},
     "output_type": "execute_result"
    }
   ],
   "source": [
    "rf.fit(X_train, y_train) "
   ]
  },
  {
   "cell_type": "code",
   "execution_count": 47,
   "id": "b664475b",
   "metadata": {},
   "outputs": [],
   "source": [
    "rf_preds = rf.predict(X_test)"
   ]
  },
  {
   "cell_type": "code",
   "execution_count": 48,
   "id": "b8278a10",
   "metadata": {},
   "outputs": [
    {
     "name": "stdout",
     "output_type": "stream",
     "text": [
      "0.9950491996215809\n"
     ]
    }
   ],
   "source": [
    "print(f1_score (y_test,rf_preds, average = \"macro\"))"
   ]
  },
  {
   "cell_type": "code",
   "execution_count": 49,
   "id": "b708b0a9",
   "metadata": {},
   "outputs": [],
   "source": [
    "paramgrid4 = { \n",
    "           \"criterion\" : [\"gini\", \"entropy\"], \n",
    "           \"n_estimators\": [50, 100], \n",
    "           \"max_depth\" : [5,15]\n",
    "}\n",
    "\n",
    "\n",
    "\n",
    "rf_Grid = GridSearchCV(rf,param_grid=paramgrid4,cv = 5,scoring = \"f1_macro\" )\n",
    "\n",
    "rf_Grid_Model = rf_Grid.fit(X_train,y_train)"
   ]
  },
  {
   "cell_type": "code",
   "execution_count": 50,
   "id": "4e08f544",
   "metadata": {},
   "outputs": [
    {
     "name": "stdout",
     "output_type": "stream",
     "text": [
      "0.84689405578206\n",
      "{'criterion': 'gini', 'max_depth': 15, 'n_estimators': 100}\n"
     ]
    }
   ],
   "source": [
    "print (rf_Grid_Model.best_score_)\n",
    "print (rf_Grid_Model.best_params_)"
   ]
  },
  {
   "cell_type": "code",
   "execution_count": 51,
   "id": "81e0fb06",
   "metadata": {
    "scrolled": true
   },
   "outputs": [],
   "source": [
    "paramgrid5 =  { \n",
    "           \"criterion\" : [\"gini\", \"entropy\"], \n",
    "           \"n_estimators\": [50, 70], \n",
    "           \"max_depth\" : [15,20]\n",
    "}\n",
    "\n",
    "\n",
    "rf_Grid2 = GridSearchCV(rf,param_grid=paramgrid5,cv = 5,scoring = \"f1_macro\" )\n",
    "\n",
    "rf_Grid_Model2 = rf_Grid2.fit(X_train,y_train)"
   ]
  },
  {
   "cell_type": "code",
   "execution_count": 52,
   "id": "a37c2332",
   "metadata": {},
   "outputs": [
    {
     "name": "stdout",
     "output_type": "stream",
     "text": [
      "0.8999623574026678\n",
      "{'criterion': 'gini', 'max_depth': 20, 'n_estimators': 70}\n"
     ]
    }
   ],
   "source": [
    "print (rf_Grid_Model2.best_score_)\n",
    "print (rf_Grid_Model2.best_params_)"
   ]
  },
  {
   "cell_type": "code",
   "execution_count": 53,
   "id": "4363989b",
   "metadata": {},
   "outputs": [],
   "source": [
    "paramgrid6 =   { \n",
    "           \"criterion\" : [\"gini\", \"entropy\"], \n",
    "           \"n_estimators\": [5, 50], \n",
    "           \"max_depth\" : [20,25]\n",
    "           \n",
    "}\n",
    "\n",
    "rf_Grid3 = GridSearchCV(rf,param_grid=paramgrid6,cv = 5,scoring = \"f1_macro\" )\n",
    "\n",
    "rf_Grid_Model3 = rf_Grid3.fit(X_train,y_train)"
   ]
  },
  {
   "cell_type": "code",
   "execution_count": 54,
   "id": "c09de35d",
   "metadata": {},
   "outputs": [
    {
     "name": "stdout",
     "output_type": "stream",
     "text": [
      "0.936324099093701\n",
      "{'criterion': 'gini', 'max_depth': 25, 'n_estimators': 50}\n"
     ]
    }
   ],
   "source": [
    "print (rf_Grid_Model3.best_score_)\n",
    "print (rf_Grid_Model3.best_params_)"
   ]
  }
 ],
 "metadata": {
  "kernelspec": {
   "display_name": "Python 3 (ipykernel)",
   "language": "python",
   "name": "python3"
  },
  "language_info": {
   "codemirror_mode": {
    "name": "ipython",
    "version": 3
   },
   "file_extension": ".py",
   "mimetype": "text/x-python",
   "name": "python",
   "nbconvert_exporter": "python",
   "pygments_lexer": "ipython3",
   "version": "3.9.6"
  }
 },
 "nbformat": 4,
 "nbformat_minor": 5
}
