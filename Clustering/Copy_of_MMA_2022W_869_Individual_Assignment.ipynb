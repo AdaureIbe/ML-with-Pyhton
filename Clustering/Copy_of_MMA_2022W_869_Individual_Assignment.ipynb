{
  "nbformat": 4,
  "nbformat_minor": 0,
  "metadata": {
    "kernelspec": {
      "name": "python3",
      "display_name": "Python 3"
    },
    "colab": {
      "name": "Copy of MMA 2022W 869 Individual Assignment.ipynb",
      "provenance": [],
      "collapsed_sections": []
    }
  },
  "cells": [
    {
      "cell_type": "markdown",
      "metadata": {
        "id": "HKmorPdno_n_"
      },
      "source": [
        "# MMA 869: Individual Assignment\n",
        "\n",
        "<font color='red'>\\# TODO: fill in the below</font>\n",
        "\n",
        "- [Adaure, Ibe]\n",
        "- [20254264]\n",
        "- [Section 2]\n",
        "- [The Road Less Traveled]\n",
        "- [1-8-2021]"
      ]
    },
    {
      "cell_type": "markdown",
      "metadata": {
        "id": "emfFtv4aHBI1"
      },
      "source": [
        "# Assignment Instructions\n",
        "\n",
        "This assignment contains four questions. The questions are fully contained in this Google Colab Notebook. \n",
        "\n",
        "You are to make a copy of this Notebook and edit the copy to provide your answers. You are to complete the assignment entirely within Google Colab. Why?\n",
        "\n",
        "- It gives you practice using cloud-based interactive notebook environments (which is a popular workflow)\n",
        "- It is easier for you to manage the environment (e.g., installing packages, etc.)\n",
        "- Google Colab has nice, beefy machines, so you don't have to worry about running out of memory on your local computer.\n",
        "- It will be easier for the TA to help you debug your code if you need help\n",
        "- It will be easier for the TA to mark/run your code\n",
        "\n",
        "Some parts of this assigment require you to write code. Use Python. You may use standard Python libraries, including `scikit-learn`, `pandas`, `numpy`, and scipy`.\n",
        "\n",
        "Some parts of this assignment require text responses. In these cases, type your response in the Notebook cell indicated. Use English. Use proper grammar, spelling, and punctuation. Be professional and clear. Be complete, but not overly-verbose. Feel free to use [Markdown syntax](https://www.markdownguide.org/basic-syntax/) to format your answer (i.e., add bold, italics, lists, tables).\n",
        "\n",
        "## What to Submit to the Course Portal\n",
        "\n",
        "- Export your completed Notebook as a PDF file by clicking File->Print->Save as PDF.\n",
        "- Please do not submit the Notebook file (`.ipynb`) to the course portal. \n",
        "- Please submit the PDF export of the Notebook. \n",
        "   - Please name the PDF file `2022_869_FirstnameLastName.pdf`\n",
        "      - E.g., `2022_869_StephenThomas.pdf`\n",
        "   - Please make sure you have run all the cells so we can see the output!\n",
        "   - Best practice: Before exporting to PDF click Runtime->Restart and run all.\n",
        "\n"
      ]
    },
    {
      "cell_type": "markdown",
      "metadata": {
        "id": "oZFTCX4DqmRO"
      },
      "source": [
        "# Preliminaries: Inspect and Set up environment\n",
        "\n",
        "No action is required on your part in this section. These cells print out helpful information about the environment, just in case."
      ]
    },
    {
      "cell_type": "code",
      "metadata": {
        "id": "xj34Jz-Do_oK"
      },
      "source": [
        "import datetime\n",
        "import pandas as pd\n",
        "import numpy as np"
      ],
      "execution_count": null,
      "outputs": []
    },
    {
      "cell_type": "code",
      "metadata": {
        "id": "mqQ_XOKyXTS6",
        "colab": {
          "base_uri": "https://localhost:8080/"
        },
        "outputId": "779183c1-0ae9-4589-98bf-9ec3db98a4e9"
      },
      "source": [
        "print(datetime.datetime.now())"
      ],
      "execution_count": null,
      "outputs": [
        {
          "output_type": "stream",
          "text": [
            "2021-08-15 22:31:44.071052\n"
          ],
          "name": "stdout"
        }
      ]
    },
    {
      "cell_type": "code",
      "metadata": {
        "colab": {
          "base_uri": "https://localhost:8080/"
        },
        "id": "LfOMt1lErLhZ",
        "outputId": "db48ea46-b59d-4b57-f368-bc82f93bab6f"
      },
      "source": [
        "!which python"
      ],
      "execution_count": null,
      "outputs": [
        {
          "output_type": "stream",
          "text": [
            "/usr/local/bin/python\n"
          ],
          "name": "stdout"
        }
      ]
    },
    {
      "cell_type": "code",
      "metadata": {
        "colab": {
          "base_uri": "https://localhost:8080/"
        },
        "id": "aub2w1-arM5K",
        "outputId": "e76d846d-2a49-4e7a-bd47-f39bd3231d6c"
      },
      "source": [
        "!python --version"
      ],
      "execution_count": null,
      "outputs": [
        {
          "output_type": "stream",
          "text": [
            "Python 3.7.11\n"
          ],
          "name": "stdout"
        }
      ]
    },
    {
      "cell_type": "code",
      "metadata": {
        "colab": {
          "base_uri": "https://localhost:8080/"
        },
        "id": "E9Y_n_8UrO9i",
        "outputId": "89c98bcb-5919-4df1-f8a4-9cc29af1f354"
      },
      "source": [
        "!echo $PYTHONPATH"
      ],
      "execution_count": null,
      "outputs": [
        {
          "output_type": "stream",
          "text": [
            "/env/python\n"
          ],
          "name": "stdout"
        }
      ]
    },
    {
      "cell_type": "code",
      "metadata": {
        "colab": {
          "base_uri": "https://localhost:8080/"
        },
        "id": "WHUVO0Dit0Xk",
        "outputId": "e05f0a7b-6a1e-4e1e-de5c-64aa8a5f7278"
      },
      "source": [
        "# TODO: install any packages you need to here. For example\n",
        "!pip install category_encoders"
      ],
      "execution_count": null,
      "outputs": [
        {
          "output_type": "stream",
          "text": [
            "Requirement already satisfied: category_encoders in /usr/local/lib/python3.7/dist-packages (2.2.2)\n",
            "Requirement already satisfied: pandas>=0.21.1 in /usr/local/lib/python3.7/dist-packages (from category_encoders) (1.1.5)\n",
            "Requirement already satisfied: scikit-learn>=0.20.0 in /usr/local/lib/python3.7/dist-packages (from category_encoders) (0.22.2.post1)\n",
            "Requirement already satisfied: numpy>=1.14.0 in /usr/local/lib/python3.7/dist-packages (from category_encoders) (1.19.5)\n",
            "Requirement already satisfied: scipy>=1.0.0 in /usr/local/lib/python3.7/dist-packages (from category_encoders) (1.4.1)\n",
            "Requirement already satisfied: patsy>=0.5.1 in /usr/local/lib/python3.7/dist-packages (from category_encoders) (0.5.1)\n",
            "Requirement already satisfied: statsmodels>=0.9.0 in /usr/local/lib/python3.7/dist-packages (from category_encoders) (0.10.2)\n",
            "Requirement already satisfied: python-dateutil>=2.7.3 in /usr/local/lib/python3.7/dist-packages (from pandas>=0.21.1->category_encoders) (2.8.2)\n",
            "Requirement already satisfied: pytz>=2017.2 in /usr/local/lib/python3.7/dist-packages (from pandas>=0.21.1->category_encoders) (2018.9)\n",
            "Requirement already satisfied: six in /usr/local/lib/python3.7/dist-packages (from patsy>=0.5.1->category_encoders) (1.15.0)\n",
            "Requirement already satisfied: joblib>=0.11 in /usr/local/lib/python3.7/dist-packages (from scikit-learn>=0.20.0->category_encoders) (1.0.1)\n"
          ],
          "name": "stdout"
        }
      ]
    },
    {
      "cell_type": "code",
      "metadata": {
        "id": "-qyD7Jl0Gw1E"
      },
      "source": [
        "#Importing packages to be used in project\n",
        "import pandas as pd\n",
        "import numpy as np\n",
        "import matplotlib.pyplot as plt\n",
        "import seaborn as sns\n",
        "import missingno as msno\n",
        "import category_encoders as ce\n",
        "import pandas as pd\n",
        "import numpy as np\n",
        "\n",
        "#Importing clustering packages\n",
        "from sklearn.metrics import silhouette_score, silhouette_samples\n",
        "from sklearn.preprocessing import StandardScaler\n",
        "from sklearn.cluster import KMeans, DBSCAN, AgglomerativeClustering\n",
        "from sklearn.mixture import GaussianMixture\n",
        "from mpl_toolkits.mplot3d import Axes3D\n",
        "\n",
        "from IPython.core.interactiveshell import InteractiveShell\n",
        "InteractiveShell.ast_node_interactivity = \"all\""
      ],
      "execution_count": null,
      "outputs": []
    },
    {
      "cell_type": "markdown",
      "metadata": {
        "id": "RLlBjIyS2o54"
      },
      "source": [
        "# Question 1: Uncle Steve's Diamonds"
      ]
    },
    {
      "cell_type": "markdown",
      "metadata": {
        "id": "qj1NSQelo_oN"
      },
      "source": [
        "## Instructions\n",
        "\n",
        "You work at a local jewelry store named *Uncle Steve's Diamonds*. You started as a janitor, but you’ve recently been promoted to senior data analyst! Congratulations.\n",
        "\n",
        "Uncle Steve, the store's owner, needs to better understand the store's customers. In particular, he wants to know what kind of customers shop at the store. He wants to know the main types of *customer personas*. Once he knows these, he will contemplate ways to better market to each persona, better satisfy each persona, better cater to each persona, increase the loyalty of each persona, etc. But first, he must know the personas.\n",
        "\n",
        "You want to help Uncle Steve. Using sneaky magic (and the help of Environics), you've collected four useful features for a subset of the customers: age, income, spending score (i.e., a score based on how much they’ve spent at the store in total), and savings (i.e., how much money they have in their personal bank account). \n",
        "\n",
        "**Your tasks**\n",
        "\n",
        "1. Pick a clustering algorithm (the [`sklearn.cluster`](https://scikit-learn.org/stable/modules/classes.html#module-sklearn.cluster) module has many good choices, including [`KMeans`](https://scikit-learn.org/stable/modules/generated/sklearn.cluster.KMeans.html#sklearn.cluster.KMeans), [`DBSCAN`](https://scikit-learn.org/stable/modules/generated/sklearn.cluster.DBSCAN.html#sklearn.cluster.DBSCAN), and [`AgglomerativeClustering`](https://scikit-learn.org/stable/modules/generated/sklearn.cluster.AgglomerativeClustering.html#sklearn.cluster.AgglomerativeClustering) (aka Hierarchical). (Note that another popular implementation of the hierarchical algorithm can be found in SciPy's [`scipy.cluster.hierarchy.linkage`](https://docs.scipy.org/doc/scipy/reference/generated/scipy.cluster.hierarchy.linkage.html).) Don't spend a lot of time thinking about which algorithm to choose - just pick one. Cluster the customers as best as you can, within reason. That is, try different feature preprocessing steps, hyperparameter values, and/or distance metrics. You don't need to try every single posssible combination, but try a few at least. Measure how good each  model configuration is by calculating an internal validation metric (e.g., [`calinski_harabasz_score`](https://scikit-learn.org/stable/modules/generated/sklearn.metrics.calinski_harabasz_score.html) or [`silhouette_score`](https://scikit-learn.org/stable/modules/generated/sklearn.metrics.silhouette_score.html#sklearn.metrics.silhouette_score)).\n",
        "2. You have some doubts - you're not sure if the algorithm you chose in part 1 is the best algorithm for this dataset/problem. Neither is Uncle Steve. So, choose a different algorithm (any!) and do it all again.\n",
        "3. Which clustering algorithm is \"better\" in this case? Think about charateristics of the algorithm like quality of results, ease of use, speed, interpretability, etc. Choose a winner and justify to Uncle Steve.\n",
        "4. Interpret the clusters of the winning model. That is, describe, in words, a *persona* that accurately depicts each cluster. Use statistics (e.g., cluster means/distributions), examples (e.g., exemplar instances from each cluster), and/or visualizations (e.g., relative importance plots, snakeplots) to get started. Human judgement and creativity will be necessary. This is where it all comes together. Be descripive and *help Uncle Steve understand his customers better*. Please!\n",
        "\n",
        "**Marking**\n",
        "\n",
        "The coding parts (i.e., 1 and 2) will be marked based on:\n",
        "\n",
        "- *Correctness*. Code clearly and fully performs the task specified.\n",
        "- *Reproducibility*. Code is fully reproducible. I.e., you (and I) are able to run this Notebook again and again, from top to bottom, and get the same results each time.\n",
        "- *Style*. Code is organized. All parts commented with clear reasoning and rationale. No old code laying around. Code easy to follow.\n",
        "\n",
        "\n",
        "Parts 3 and 4 will be marked on:\n",
        "\n",
        "- *Quality*. Response is well-justified and convincing. Responses uses facts and data where possible.\n",
        "- *Style*. Response uses proper grammar, spelling, and punctuation. Response is clear and professional. Response is complete, but not overly-verbose. Response follows length guidelines.\n",
        "\n",
        "\n",
        "**Tips**\n",
        "\n",
        "- Since clustering is an unsupervised ML technique, you don't need to split the data into training/validation/test or anything like that. Phew!\n",
        "- On the flip side, since clustering is unsupervised, you will never know the \"true\" clusters, and so you will never know if a given algorithm is \"correct.\" There really is no notion of \"correctness\" - only \"usefullness.\"\n",
        "- Many online clustering tutorials (including some from Uncle Steve) create flashy visualizations of the clusters by plotting the instances on a 2-D graph and coloring each point by the cluster ID. This is really nice and all, but it can only work if your dataset only has exactly two features - no more, no less. This dataset has more than two features, so you cannot use this technique. (But that's OK - you don't need to use this technique.) \n",
        "- Must you use all four features in the clustering? Not necessarily, no. But \"throwing away\" quality data, for no reason, is unlikely to improve a model.\n",
        "- Some people have success applying a dimensionality reduction technique (like [`sklearn.decomposition.PCA`](https://scikit-learn.org/stable/modules/generated/sklearn.decomposition.PCA.html)) to the features before clustering. You may do this if you wish, although it may not be as helpful in this case because there are only four features to begin with.\n",
        "- If you apply a transformation (e.g., [`MinMaxScaler`](https://scikit-learn.org/stable/modules/generated/sklearn.preprocessing.MinMaxScaler.html) or [`StandardScaler`](https://scikit-learn.org/stable/modules/generated/sklearn.preprocessing.StandardScaler.html#sklearn.preprocessing.StandardScaler)) to the features before clustering, you may have difficulty interpretting the means of the clusters (e.g., what is a mean Age of 0.2234??). There are two options to fix this: first, you can always reverse a transformation with the `inverse_transform` method. Second, you can just use the original dataset (i.e., before any prepropoceesing) during the interpreation step.\n",
        "- You cannot change the distance metric for K-Means. (This is for theoretical reasons: K-Means only works/makes sense with Euclidean distance.\n"
      ]
    },
    {
      "cell_type": "markdown",
      "metadata": {
        "id": "Yww0-vtpOw7z"
      },
      "source": [
        "## 1.0: Load data "
      ]
    },
    {
      "cell_type": "code",
      "metadata": {
        "colab": {
          "base_uri": "https://localhost:8080/"
        },
        "id": "qVWx2c-DhQYo",
        "outputId": "b86b9ba8-01ca-4325-f373-a220f70a2211"
      },
      "source": [
        "# DO NOT MODIFY THIS CELL\n",
        "df1 = pd.read_csv(\"https://drive.google.com/uc?export=download&id=1thHDCwQK3GijytoSSZNekAsItN_FGHtm\") #This DF will be standarzided  \n",
        "df1.info()"
      ],
      "execution_count": null,
      "outputs": [
        {
          "output_type": "stream",
          "text": [
            "<class 'pandas.core.frame.DataFrame'>\n",
            "RangeIndex: 505 entries, 0 to 504\n",
            "Data columns (total 4 columns):\n",
            " #   Column         Non-Null Count  Dtype  \n",
            "---  ------         --------------  -----  \n",
            " 0   Age            505 non-null    int64  \n",
            " 1   Income         505 non-null    int64  \n",
            " 2   SpendingScore  505 non-null    float64\n",
            " 3   Savings        505 non-null    float64\n",
            "dtypes: float64(2), int64(2)\n",
            "memory usage: 15.9 KB\n"
          ],
          "name": "stdout"
        }
      ]
    },
    {
      "cell_type": "code",
      "metadata": {
        "id": "UP4eVJXABLAd"
      },
      "source": [
        "df2 = pd.read_csv(\"https://drive.google.com/uc?export=download&id=1thHDCwQK3GijytoSSZNekAsItN_FGHtm\") #This DF will be normalized"
      ],
      "execution_count": null,
      "outputs": []
    },
    {
      "cell_type": "code",
      "metadata": {
        "id": "OqX2BIS6aRYG"
      },
      "source": [
        "df5 = pd.read_csv(\"https://drive.google.com/uc?export=download&id=1thHDCwQK3GijytoSSZNekAsItN_FGHtm\") #This DF will be used in the interpretation of clusters "
      ],
      "execution_count": null,
      "outputs": []
    },
    {
      "cell_type": "code",
      "metadata": {
        "colab": {
          "base_uri": "https://localhost:8080/",
          "height": 1000
        },
        "id": "ky2QmQvmNV1j",
        "outputId": "3c497d9f-29b6-4b9c-87e9-57161df27f3e"
      },
      "source": [
        "#Data Exploration\n",
        "list(df1)\n",
        "df1.shape\n",
        "df1.info()\n",
        "df1.describe().transpose()\n",
        "df1.head(n=20)\n",
        "df1.tail()"
      ],
      "execution_count": null,
      "outputs": [
        {
          "output_type": "execute_result",
          "data": {
            "text/plain": [
              "['Age', 'Income', 'SpendingScore', 'Savings']"
            ]
          },
          "metadata": {
            "tags": []
          },
          "execution_count": 62
        },
        {
          "output_type": "execute_result",
          "data": {
            "text/plain": [
              "(505, 4)"
            ]
          },
          "metadata": {
            "tags": []
          },
          "execution_count": 62
        },
        {
          "output_type": "stream",
          "text": [
            "<class 'pandas.core.frame.DataFrame'>\n",
            "RangeIndex: 505 entries, 0 to 504\n",
            "Data columns (total 4 columns):\n",
            " #   Column         Non-Null Count  Dtype  \n",
            "---  ------         --------------  -----  \n",
            " 0   Age            505 non-null    int64  \n",
            " 1   Income         505 non-null    int64  \n",
            " 2   SpendingScore  505 non-null    float64\n",
            " 3   Savings        505 non-null    float64\n",
            "dtypes: float64(2), int64(2)\n",
            "memory usage: 15.9 KB\n"
          ],
          "name": "stdout"
        },
        {
          "output_type": "execute_result",
          "data": {
            "text/html": [
              "<div>\n",
              "<style scoped>\n",
              "    .dataframe tbody tr th:only-of-type {\n",
              "        vertical-align: middle;\n",
              "    }\n",
              "\n",
              "    .dataframe tbody tr th {\n",
              "        vertical-align: top;\n",
              "    }\n",
              "\n",
              "    .dataframe thead th {\n",
              "        text-align: right;\n",
              "    }\n",
              "</style>\n",
              "<table border=\"1\" class=\"dataframe\">\n",
              "  <thead>\n",
              "    <tr style=\"text-align: right;\">\n",
              "      <th></th>\n",
              "      <th>count</th>\n",
              "      <th>mean</th>\n",
              "      <th>std</th>\n",
              "      <th>min</th>\n",
              "      <th>25%</th>\n",
              "      <th>50%</th>\n",
              "      <th>75%</th>\n",
              "      <th>max</th>\n",
              "    </tr>\n",
              "  </thead>\n",
              "  <tbody>\n",
              "    <tr>\n",
              "      <th>Age</th>\n",
              "      <td>505.0</td>\n",
              "      <td>59.019802</td>\n",
              "      <td>24.140043</td>\n",
              "      <td>17.0</td>\n",
              "      <td>34.000000</td>\n",
              "      <td>59.000000</td>\n",
              "      <td>85.000000</td>\n",
              "      <td>97.0</td>\n",
              "    </tr>\n",
              "    <tr>\n",
              "      <th>Income</th>\n",
              "      <td>505.0</td>\n",
              "      <td>75513.291089</td>\n",
              "      <td>35992.922184</td>\n",
              "      <td>12000.0</td>\n",
              "      <td>34529.000000</td>\n",
              "      <td>75078.000000</td>\n",
              "      <td>107100.000000</td>\n",
              "      <td>142000.0</td>\n",
              "    </tr>\n",
              "    <tr>\n",
              "      <th>SpendingScore</th>\n",
              "      <td>505.0</td>\n",
              "      <td>0.505083</td>\n",
              "      <td>0.259634</td>\n",
              "      <td>0.0</td>\n",
              "      <td>0.304792</td>\n",
              "      <td>0.368215</td>\n",
              "      <td>0.768279</td>\n",
              "      <td>1.0</td>\n",
              "    </tr>\n",
              "    <tr>\n",
              "      <th>Savings</th>\n",
              "      <td>505.0</td>\n",
              "      <td>11862.455867</td>\n",
              "      <td>4949.229253</td>\n",
              "      <td>0.0</td>\n",
              "      <td>6828.709702</td>\n",
              "      <td>14209.932802</td>\n",
              "      <td>16047.268331</td>\n",
              "      <td>20000.0</td>\n",
              "    </tr>\n",
              "  </tbody>\n",
              "</table>\n",
              "</div>"
            ],
            "text/plain": [
              "               count          mean  ...            75%       max\n",
              "Age            505.0     59.019802  ...      85.000000      97.0\n",
              "Income         505.0  75513.291089  ...  107100.000000  142000.0\n",
              "SpendingScore  505.0      0.505083  ...       0.768279       1.0\n",
              "Savings        505.0  11862.455867  ...   16047.268331   20000.0\n",
              "\n",
              "[4 rows x 8 columns]"
            ]
          },
          "metadata": {
            "tags": []
          },
          "execution_count": 62
        },
        {
          "output_type": "execute_result",
          "data": {
            "text/html": [
              "<div>\n",
              "<style scoped>\n",
              "    .dataframe tbody tr th:only-of-type {\n",
              "        vertical-align: middle;\n",
              "    }\n",
              "\n",
              "    .dataframe tbody tr th {\n",
              "        vertical-align: top;\n",
              "    }\n",
              "\n",
              "    .dataframe thead th {\n",
              "        text-align: right;\n",
              "    }\n",
              "</style>\n",
              "<table border=\"1\" class=\"dataframe\">\n",
              "  <thead>\n",
              "    <tr style=\"text-align: right;\">\n",
              "      <th></th>\n",
              "      <th>Age</th>\n",
              "      <th>Income</th>\n",
              "      <th>SpendingScore</th>\n",
              "      <th>Savings</th>\n",
              "    </tr>\n",
              "  </thead>\n",
              "  <tbody>\n",
              "    <tr>\n",
              "      <th>0</th>\n",
              "      <td>58</td>\n",
              "      <td>77769</td>\n",
              "      <td>0.791329</td>\n",
              "      <td>6559.829923</td>\n",
              "    </tr>\n",
              "    <tr>\n",
              "      <th>1</th>\n",
              "      <td>59</td>\n",
              "      <td>81799</td>\n",
              "      <td>0.791082</td>\n",
              "      <td>5417.661426</td>\n",
              "    </tr>\n",
              "    <tr>\n",
              "      <th>2</th>\n",
              "      <td>62</td>\n",
              "      <td>74751</td>\n",
              "      <td>0.702657</td>\n",
              "      <td>9258.992965</td>\n",
              "    </tr>\n",
              "    <tr>\n",
              "      <th>3</th>\n",
              "      <td>59</td>\n",
              "      <td>74373</td>\n",
              "      <td>0.765680</td>\n",
              "      <td>7346.334504</td>\n",
              "    </tr>\n",
              "    <tr>\n",
              "      <th>4</th>\n",
              "      <td>87</td>\n",
              "      <td>17760</td>\n",
              "      <td>0.348778</td>\n",
              "      <td>16869.507130</td>\n",
              "    </tr>\n",
              "    <tr>\n",
              "      <th>5</th>\n",
              "      <td>29</td>\n",
              "      <td>131578</td>\n",
              "      <td>0.847034</td>\n",
              "      <td>3535.514352</td>\n",
              "    </tr>\n",
              "    <tr>\n",
              "      <th>6</th>\n",
              "      <td>54</td>\n",
              "      <td>76500</td>\n",
              "      <td>0.785198</td>\n",
              "      <td>6878.884249</td>\n",
              "    </tr>\n",
              "    <tr>\n",
              "      <th>7</th>\n",
              "      <td>87</td>\n",
              "      <td>42592</td>\n",
              "      <td>0.355290</td>\n",
              "      <td>18086.287158</td>\n",
              "    </tr>\n",
              "    <tr>\n",
              "      <th>8</th>\n",
              "      <td>83</td>\n",
              "      <td>34384</td>\n",
              "      <td>0.324719</td>\n",
              "      <td>14783.379086</td>\n",
              "    </tr>\n",
              "    <tr>\n",
              "      <th>9</th>\n",
              "      <td>84</td>\n",
              "      <td>27693</td>\n",
              "      <td>0.367063</td>\n",
              "      <td>17879.558906</td>\n",
              "    </tr>\n",
              "    <tr>\n",
              "      <th>10</th>\n",
              "      <td>85</td>\n",
              "      <td>111389</td>\n",
              "      <td>0.036795</td>\n",
              "      <td>16009.237763</td>\n",
              "    </tr>\n",
              "    <tr>\n",
              "      <th>11</th>\n",
              "      <td>36</td>\n",
              "      <td>99780</td>\n",
              "      <td>0.265433</td>\n",
              "      <td>16398.401333</td>\n",
              "    </tr>\n",
              "    <tr>\n",
              "      <th>12</th>\n",
              "      <td>30</td>\n",
              "      <td>99949</td>\n",
              "      <td>0.344679</td>\n",
              "      <td>13621.639726</td>\n",
              "    </tr>\n",
              "    <tr>\n",
              "      <th>13</th>\n",
              "      <td>31</td>\n",
              "      <td>107963</td>\n",
              "      <td>0.290509</td>\n",
              "      <td>13407.081391</td>\n",
              "    </tr>\n",
              "    <tr>\n",
              "      <th>14</th>\n",
              "      <td>61</td>\n",
              "      <td>71933</td>\n",
              "      <td>0.844107</td>\n",
              "      <td>8022.208541</td>\n",
              "    </tr>\n",
              "    <tr>\n",
              "      <th>15</th>\n",
              "      <td>92</td>\n",
              "      <td>122879</td>\n",
              "      <td>0.060724</td>\n",
              "      <td>13709.670275</td>\n",
              "    </tr>\n",
              "    <tr>\n",
              "      <th>16</th>\n",
              "      <td>55</td>\n",
              "      <td>71621</td>\n",
              "      <td>0.753343</td>\n",
              "      <td>7780.589914</td>\n",
              "    </tr>\n",
              "    <tr>\n",
              "      <th>17</th>\n",
              "      <td>87</td>\n",
              "      <td>31481</td>\n",
              "      <td>0.317424</td>\n",
              "      <td>16180.688082</td>\n",
              "    </tr>\n",
              "    <tr>\n",
              "      <th>18</th>\n",
              "      <td>82</td>\n",
              "      <td>33636</td>\n",
              "      <td>0.371783</td>\n",
              "      <td>17866.833598</td>\n",
              "    </tr>\n",
              "    <tr>\n",
              "      <th>19</th>\n",
              "      <td>88</td>\n",
              "      <td>120678</td>\n",
              "      <td>0.063273</td>\n",
              "      <td>14264.473847</td>\n",
              "    </tr>\n",
              "  </tbody>\n",
              "</table>\n",
              "</div>"
            ],
            "text/plain": [
              "    Age  Income  SpendingScore       Savings\n",
              "0    58   77769       0.791329   6559.829923\n",
              "1    59   81799       0.791082   5417.661426\n",
              "2    62   74751       0.702657   9258.992965\n",
              "3    59   74373       0.765680   7346.334504\n",
              "4    87   17760       0.348778  16869.507130\n",
              "5    29  131578       0.847034   3535.514352\n",
              "6    54   76500       0.785198   6878.884249\n",
              "7    87   42592       0.355290  18086.287158\n",
              "8    83   34384       0.324719  14783.379086\n",
              "9    84   27693       0.367063  17879.558906\n",
              "10   85  111389       0.036795  16009.237763\n",
              "11   36   99780       0.265433  16398.401333\n",
              "12   30   99949       0.344679  13621.639726\n",
              "13   31  107963       0.290509  13407.081391\n",
              "14   61   71933       0.844107   8022.208541\n",
              "15   92  122879       0.060724  13709.670275\n",
              "16   55   71621       0.753343   7780.589914\n",
              "17   87   31481       0.317424  16180.688082\n",
              "18   82   33636       0.371783  17866.833598\n",
              "19   88  120678       0.063273  14264.473847"
            ]
          },
          "metadata": {
            "tags": []
          },
          "execution_count": 62
        },
        {
          "output_type": "execute_result",
          "data": {
            "text/html": [
              "<div>\n",
              "<style scoped>\n",
              "    .dataframe tbody tr th:only-of-type {\n",
              "        vertical-align: middle;\n",
              "    }\n",
              "\n",
              "    .dataframe tbody tr th {\n",
              "        vertical-align: top;\n",
              "    }\n",
              "\n",
              "    .dataframe thead th {\n",
              "        text-align: right;\n",
              "    }\n",
              "</style>\n",
              "<table border=\"1\" class=\"dataframe\">\n",
              "  <thead>\n",
              "    <tr style=\"text-align: right;\">\n",
              "      <th></th>\n",
              "      <th>Age</th>\n",
              "      <th>Income</th>\n",
              "      <th>SpendingScore</th>\n",
              "      <th>Savings</th>\n",
              "    </tr>\n",
              "  </thead>\n",
              "  <tbody>\n",
              "    <tr>\n",
              "      <th>500</th>\n",
              "      <td>28</td>\n",
              "      <td>101206</td>\n",
              "      <td>0.387441</td>\n",
              "      <td>14936.775389</td>\n",
              "    </tr>\n",
              "    <tr>\n",
              "      <th>501</th>\n",
              "      <td>93</td>\n",
              "      <td>19934</td>\n",
              "      <td>0.203140</td>\n",
              "      <td>17969.693769</td>\n",
              "    </tr>\n",
              "    <tr>\n",
              "      <th>502</th>\n",
              "      <td>90</td>\n",
              "      <td>35297</td>\n",
              "      <td>0.355149</td>\n",
              "      <td>16091.401954</td>\n",
              "    </tr>\n",
              "    <tr>\n",
              "      <th>503</th>\n",
              "      <td>91</td>\n",
              "      <td>20681</td>\n",
              "      <td>0.354679</td>\n",
              "      <td>18401.088445</td>\n",
              "    </tr>\n",
              "    <tr>\n",
              "      <th>504</th>\n",
              "      <td>89</td>\n",
              "      <td>30267</td>\n",
              "      <td>0.289310</td>\n",
              "      <td>14386.351880</td>\n",
              "    </tr>\n",
              "  </tbody>\n",
              "</table>\n",
              "</div>"
            ],
            "text/plain": [
              "     Age  Income  SpendingScore       Savings\n",
              "500   28  101206       0.387441  14936.775389\n",
              "501   93   19934       0.203140  17969.693769\n",
              "502   90   35297       0.355149  16091.401954\n",
              "503   91   20681       0.354679  18401.088445\n",
              "504   89   30267       0.289310  14386.351880"
            ]
          },
          "metadata": {
            "tags": []
          },
          "execution_count": 62
        }
      ]
    },
    {
      "cell_type": "code",
      "metadata": {
        "id": "NP4AgWTWOqgS"
      },
      "source": [
        "#scaling the data\n",
        "scaler = StandardScaler()\n",
        "features = ['Age', 'SpendingScore','Income','Savings']\n",
        "df1[features] = scaler.fit_transform(df1[features])"
      ],
      "execution_count": null,
      "outputs": []
    },
    {
      "cell_type": "code",
      "metadata": {
        "colab": {
          "base_uri": "https://localhost:8080/",
          "height": 900
        },
        "id": "Xv2oYSfoOqi7",
        "outputId": "931368e4-9138-4f5e-ef75-0f4b58f39354"
      },
      "source": [
        "#Reviewing standardized data\n",
        "df1.shape\n",
        "df1.info()\n",
        "df1.describe().transpose()\n",
        "df1.head(10)\n",
        "df1.tail()"
      ],
      "execution_count": null,
      "outputs": [
        {
          "output_type": "execute_result",
          "data": {
            "text/plain": [
              "(505, 4)"
            ]
          },
          "metadata": {
            "tags": []
          },
          "execution_count": 64
        },
        {
          "output_type": "stream",
          "text": [
            "<class 'pandas.core.frame.DataFrame'>\n",
            "RangeIndex: 505 entries, 0 to 504\n",
            "Data columns (total 4 columns):\n",
            " #   Column         Non-Null Count  Dtype  \n",
            "---  ------         --------------  -----  \n",
            " 0   Age            505 non-null    float64\n",
            " 1   Income         505 non-null    float64\n",
            " 2   SpendingScore  505 non-null    float64\n",
            " 3   Savings        505 non-null    float64\n",
            "dtypes: float64(4)\n",
            "memory usage: 15.9 KB\n"
          ],
          "name": "stdout"
        },
        {
          "output_type": "execute_result",
          "data": {
            "text/html": [
              "<div>\n",
              "<style scoped>\n",
              "    .dataframe tbody tr th:only-of-type {\n",
              "        vertical-align: middle;\n",
              "    }\n",
              "\n",
              "    .dataframe tbody tr th {\n",
              "        vertical-align: top;\n",
              "    }\n",
              "\n",
              "    .dataframe thead th {\n",
              "        text-align: right;\n",
              "    }\n",
              "</style>\n",
              "<table border=\"1\" class=\"dataframe\">\n",
              "  <thead>\n",
              "    <tr style=\"text-align: right;\">\n",
              "      <th></th>\n",
              "      <th>count</th>\n",
              "      <th>mean</th>\n",
              "      <th>std</th>\n",
              "      <th>min</th>\n",
              "      <th>25%</th>\n",
              "      <th>50%</th>\n",
              "      <th>75%</th>\n",
              "      <th>max</th>\n",
              "    </tr>\n",
              "  </thead>\n",
              "  <tbody>\n",
              "    <tr>\n",
              "      <th>Age</th>\n",
              "      <td>505.0</td>\n",
              "      <td>5.672031e-17</td>\n",
              "      <td>1.000992</td>\n",
              "      <td>-1.742394</td>\n",
              "      <td>-1.037472</td>\n",
              "      <td>-0.000821</td>\n",
              "      <td>1.077295</td>\n",
              "      <td>1.574888</td>\n",
              "    </tr>\n",
              "    <tr>\n",
              "      <th>Income</th>\n",
              "      <td>505.0</td>\n",
              "      <td>-2.638154e-17</td>\n",
              "      <td>1.000992</td>\n",
              "      <td>-1.766355</td>\n",
              "      <td>-1.139805</td>\n",
              "      <td>-0.012106</td>\n",
              "      <td>0.878451</td>\n",
              "      <td>1.849048</td>\n",
              "    </tr>\n",
              "    <tr>\n",
              "      <th>SpendingScore</th>\n",
              "      <td>505.0</td>\n",
              "      <td>-1.954432e-16</td>\n",
              "      <td>1.000992</td>\n",
              "      <td>-1.947295</td>\n",
              "      <td>-0.772201</td>\n",
              "      <td>-0.527678</td>\n",
              "      <td>1.014725</td>\n",
              "      <td>1.908103</td>\n",
              "    </tr>\n",
              "    <tr>\n",
              "      <th>Savings</th>\n",
              "      <td>505.0</td>\n",
              "      <td>-4.058360e-16</td>\n",
              "      <td>1.000992</td>\n",
              "      <td>-2.399206</td>\n",
              "      <td>-1.018085</td>\n",
              "      <td>0.474782</td>\n",
              "      <td>0.846387</td>\n",
              "      <td>1.645835</td>\n",
              "    </tr>\n",
              "  </tbody>\n",
              "</table>\n",
              "</div>"
            ],
            "text/plain": [
              "               count          mean       std  ...       50%       75%       max\n",
              "Age            505.0  5.672031e-17  1.000992  ... -0.000821  1.077295  1.574888\n",
              "Income         505.0 -2.638154e-17  1.000992  ... -0.012106  0.878451  1.849048\n",
              "SpendingScore  505.0 -1.954432e-16  1.000992  ... -0.527678  1.014725  1.908103\n",
              "Savings        505.0 -4.058360e-16  1.000992  ...  0.474782  0.846387  1.645835\n",
              "\n",
              "[4 rows x 8 columns]"
            ]
          },
          "metadata": {
            "tags": []
          },
          "execution_count": 64
        },
        {
          "output_type": "execute_result",
          "data": {
            "text/html": [
              "<div>\n",
              "<style scoped>\n",
              "    .dataframe tbody tr th:only-of-type {\n",
              "        vertical-align: middle;\n",
              "    }\n",
              "\n",
              "    .dataframe tbody tr th {\n",
              "        vertical-align: top;\n",
              "    }\n",
              "\n",
              "    .dataframe thead th {\n",
              "        text-align: right;\n",
              "    }\n",
              "</style>\n",
              "<table border=\"1\" class=\"dataframe\">\n",
              "  <thead>\n",
              "    <tr style=\"text-align: right;\">\n",
              "      <th></th>\n",
              "      <th>Age</th>\n",
              "      <th>Income</th>\n",
              "      <th>SpendingScore</th>\n",
              "      <th>Savings</th>\n",
              "    </tr>\n",
              "  </thead>\n",
              "  <tbody>\n",
              "    <tr>\n",
              "      <th>0</th>\n",
              "      <td>-0.042287</td>\n",
              "      <td>0.062733</td>\n",
              "      <td>1.103593</td>\n",
              "      <td>-1.072467</td>\n",
              "    </tr>\n",
              "    <tr>\n",
              "      <th>1</th>\n",
              "      <td>-0.000821</td>\n",
              "      <td>0.174811</td>\n",
              "      <td>1.102641</td>\n",
              "      <td>-1.303473</td>\n",
              "    </tr>\n",
              "    <tr>\n",
              "      <th>2</th>\n",
              "      <td>0.123577</td>\n",
              "      <td>-0.021200</td>\n",
              "      <td>0.761727</td>\n",
              "      <td>-0.526556</td>\n",
              "    </tr>\n",
              "    <tr>\n",
              "      <th>3</th>\n",
              "      <td>-0.000821</td>\n",
              "      <td>-0.031712</td>\n",
              "      <td>1.004705</td>\n",
              "      <td>-0.913395</td>\n",
              "    </tr>\n",
              "    <tr>\n",
              "      <th>4</th>\n",
              "      <td>1.160228</td>\n",
              "      <td>-1.606165</td>\n",
              "      <td>-0.602619</td>\n",
              "      <td>1.012686</td>\n",
              "    </tr>\n",
              "    <tr>\n",
              "      <th>5</th>\n",
              "      <td>-1.244802</td>\n",
              "      <td>1.559204</td>\n",
              "      <td>1.318359</td>\n",
              "      <td>-1.684141</td>\n",
              "    </tr>\n",
              "    <tr>\n",
              "      <th>6</th>\n",
              "      <td>-0.208151</td>\n",
              "      <td>0.027441</td>\n",
              "      <td>1.079955</td>\n",
              "      <td>-1.007937</td>\n",
              "    </tr>\n",
              "    <tr>\n",
              "      <th>7</th>\n",
              "      <td>1.160228</td>\n",
              "      <td>-0.915567</td>\n",
              "      <td>-0.577512</td>\n",
              "      <td>1.258782</td>\n",
              "    </tr>\n",
              "    <tr>\n",
              "      <th>8</th>\n",
              "      <td>0.994363</td>\n",
              "      <td>-1.143838</td>\n",
              "      <td>-0.695375</td>\n",
              "      <td>0.590763</td>\n",
              "    </tr>\n",
              "    <tr>\n",
              "      <th>9</th>\n",
              "      <td>1.035829</td>\n",
              "      <td>-1.329920</td>\n",
              "      <td>-0.532121</td>\n",
              "      <td>1.216971</td>\n",
              "    </tr>\n",
              "  </tbody>\n",
              "</table>\n",
              "</div>"
            ],
            "text/plain": [
              "        Age    Income  SpendingScore   Savings\n",
              "0 -0.042287  0.062733       1.103593 -1.072467\n",
              "1 -0.000821  0.174811       1.102641 -1.303473\n",
              "2  0.123577 -0.021200       0.761727 -0.526556\n",
              "3 -0.000821 -0.031712       1.004705 -0.913395\n",
              "4  1.160228 -1.606165      -0.602619  1.012686\n",
              "5 -1.244802  1.559204       1.318359 -1.684141\n",
              "6 -0.208151  0.027441       1.079955 -1.007937\n",
              "7  1.160228 -0.915567      -0.577512  1.258782\n",
              "8  0.994363 -1.143838      -0.695375  0.590763\n",
              "9  1.035829 -1.329920      -0.532121  1.216971"
            ]
          },
          "metadata": {
            "tags": []
          },
          "execution_count": 64
        },
        {
          "output_type": "execute_result",
          "data": {
            "text/html": [
              "<div>\n",
              "<style scoped>\n",
              "    .dataframe tbody tr th:only-of-type {\n",
              "        vertical-align: middle;\n",
              "    }\n",
              "\n",
              "    .dataframe tbody tr th {\n",
              "        vertical-align: top;\n",
              "    }\n",
              "\n",
              "    .dataframe thead th {\n",
              "        text-align: right;\n",
              "    }\n",
              "</style>\n",
              "<table border=\"1\" class=\"dataframe\">\n",
              "  <thead>\n",
              "    <tr style=\"text-align: right;\">\n",
              "      <th></th>\n",
              "      <th>Age</th>\n",
              "      <th>Income</th>\n",
              "      <th>SpendingScore</th>\n",
              "      <th>Savings</th>\n",
              "    </tr>\n",
              "  </thead>\n",
              "  <tbody>\n",
              "    <tr>\n",
              "      <th>500</th>\n",
              "      <td>-1.286268</td>\n",
              "      <td>0.714535</td>\n",
              "      <td>-0.453557</td>\n",
              "      <td>0.621787</td>\n",
              "    </tr>\n",
              "    <tr>\n",
              "      <th>501</th>\n",
              "      <td>1.409024</td>\n",
              "      <td>-1.545704</td>\n",
              "      <td>-1.164109</td>\n",
              "      <td>1.235201</td>\n",
              "    </tr>\n",
              "    <tr>\n",
              "      <th>502</th>\n",
              "      <td>1.284626</td>\n",
              "      <td>-1.118447</td>\n",
              "      <td>-0.578054</td>\n",
              "      <td>0.855313</td>\n",
              "    </tr>\n",
              "    <tr>\n",
              "      <th>503</th>\n",
              "      <td>1.326092</td>\n",
              "      <td>-1.524929</td>\n",
              "      <td>-0.579866</td>\n",
              "      <td>1.322452</td>\n",
              "    </tr>\n",
              "    <tr>\n",
              "      <th>504</th>\n",
              "      <td>1.243160</td>\n",
              "      <td>-1.258335</td>\n",
              "      <td>-0.831890</td>\n",
              "      <td>0.510463</td>\n",
              "    </tr>\n",
              "  </tbody>\n",
              "</table>\n",
              "</div>"
            ],
            "text/plain": [
              "          Age    Income  SpendingScore   Savings\n",
              "500 -1.286268  0.714535      -0.453557  0.621787\n",
              "501  1.409024 -1.545704      -1.164109  1.235201\n",
              "502  1.284626 -1.118447      -0.578054  0.855313\n",
              "503  1.326092 -1.524929      -0.579866  1.322452\n",
              "504  1.243160 -1.258335      -0.831890  0.510463"
            ]
          },
          "metadata": {
            "tags": []
          },
          "execution_count": 64
        }
      ]
    },
    {
      "cell_type": "markdown",
      "metadata": {
        "id": "R04NzckZKbG2"
      },
      "source": [
        "## 1.1: Clustering Algorithm #1"
      ]
    },
    {
      "cell_type": "markdown",
      "metadata": {
        "id": "RnWrWp5y44QQ"
      },
      "source": [
        "##### K Means Cluster 1, K = 3"
      ]
    },
    {
      "cell_type": "code",
      "metadata": {
        "id": "Qeavkicwo_oN",
        "colab": {
          "base_uri": "https://localhost:8080/"
        },
        "outputId": "a3e80aba-9fba-48fc-a3fb-154894da730c"
      },
      "source": [
        "k_means = KMeans(n_clusters=3, random_state=42)\n",
        "k_means.fit(df1)"
      ],
      "execution_count": null,
      "outputs": [
        {
          "output_type": "execute_result",
          "data": {
            "text/plain": [
              "KMeans(algorithm='auto', copy_x=True, init='k-means++', max_iter=300,\n",
              "       n_clusters=3, n_init=10, n_jobs=None, precompute_distances='auto',\n",
              "       random_state=42, tol=0.0001, verbose=0)"
            ]
          },
          "metadata": {
            "tags": []
          },
          "execution_count": 65
        }
      ]
    },
    {
      "cell_type": "code",
      "metadata": {
        "colab": {
          "base_uri": "https://localhost:8080/"
        },
        "id": "7ogxYGOUtgfL",
        "outputId": "244afe9a-bd20-4ce6-f497-fda8493a5d19"
      },
      "source": [
        "k_means.labels_"
      ],
      "execution_count": null,
      "outputs": [
        {
          "output_type": "execute_result",
          "data": {
            "text/plain": [
              "array([1, 1, 1, 1, 0, 1, 1, 0, 0, 0, 2, 2, 2, 2, 1, 2, 1, 0, 0, 2, 2, 2,\n",
              "       1, 0, 2, 1, 1, 1, 0, 1, 1, 1, 0, 1, 2, 1, 0, 1, 2, 2, 1, 0, 1, 1,\n",
              "       1, 1, 2, 1, 2, 1, 0, 2, 1, 0, 1, 0, 2, 0, 0, 0, 0, 0, 0, 1, 1, 1,\n",
              "       0, 1, 1, 1, 1, 2, 0, 0, 2, 1, 2, 1, 1, 1, 1, 2, 1, 0, 0, 2, 2, 1,\n",
              "       1, 1, 1, 1, 1, 0, 1, 1, 2, 1, 1, 2, 2, 1, 2, 1, 2, 0, 0, 2, 2, 1,\n",
              "       0, 2, 1, 2, 2, 2, 1, 2, 1, 0, 2, 0, 0, 0, 2, 2, 1, 0, 1, 1, 2, 1,\n",
              "       2, 1, 1, 0, 2, 1, 1, 2, 0, 1, 1, 1, 1, 1, 1, 2, 1, 0, 1, 2, 0, 1,\n",
              "       0, 2, 2, 1, 0, 1, 2, 0, 1, 2, 0, 2, 0, 1, 2, 1, 0, 1, 2, 1, 0, 1,\n",
              "       1, 0, 0, 0, 1, 1, 2, 1, 1, 0, 2, 1, 1, 1, 2, 0, 1, 1, 1, 0, 1, 2,\n",
              "       0, 0, 0, 2, 1, 2, 1, 2, 1, 0, 1, 1, 0, 0, 0, 0, 1, 0, 2, 1, 2, 0,\n",
              "       1, 1, 2, 0, 2, 1, 2, 1, 1, 0, 1, 1, 0, 1, 1, 1, 2, 1, 2, 2, 1, 1,\n",
              "       1, 1, 2, 1, 2, 0, 1, 1, 1, 0, 1, 2, 0, 0, 2, 2, 1, 1, 2, 1, 1, 0,\n",
              "       1, 0, 2, 1, 1, 2, 0, 1, 0, 0, 2, 1, 0, 0, 1, 1, 0, 2, 2, 2, 2, 0,\n",
              "       0, 2, 2, 0, 0, 1, 1, 2, 2, 1, 2, 0, 0, 2, 1, 2, 0, 1, 2, 1, 1, 0,\n",
              "       2, 2, 0, 2, 2, 1, 0, 2, 1, 1, 0, 2, 0, 2, 0, 2, 0, 0, 2, 0, 2, 1,\n",
              "       2, 1, 1, 2, 2, 0, 0, 1, 1, 2, 0, 1, 0, 2, 1, 1, 1, 0, 0, 2, 2, 2,\n",
              "       2, 2, 1, 2, 1, 0, 1, 0, 1, 1, 0, 0, 1, 0, 2, 1, 2, 2, 2, 1, 0, 0,\n",
              "       0, 0, 0, 2, 2, 0, 1, 2, 1, 2, 0, 0, 1, 0, 0, 1, 0, 0, 2, 0, 1, 2,\n",
              "       1, 2, 1, 0, 2, 1, 1, 1, 0, 2, 1, 2, 1, 2, 1, 1, 1, 2, 2, 1, 2, 2,\n",
              "       0, 1, 0, 2, 0, 2, 1, 1, 0, 2, 2, 0, 2, 1, 1, 2, 1, 0, 1, 2, 1, 0,\n",
              "       1, 0, 1, 2, 2, 1, 2, 2, 0, 0, 1, 1, 1, 2, 2, 2, 1, 2, 1, 0, 2, 2,\n",
              "       1, 2, 0, 0, 1, 1, 2, 1, 1, 2, 1, 1, 1, 0, 2, 2, 1, 1, 1, 0, 2, 0,\n",
              "       0, 0, 0, 1, 0, 0, 0, 1, 1, 0, 0, 1, 1, 0, 2, 1, 2, 0, 0, 0, 0],\n",
              "      dtype=int32)"
            ]
          },
          "metadata": {
            "tags": []
          },
          "execution_count": 66
        }
      ]
    },
    {
      "cell_type": "code",
      "metadata": {
        "colab": {
          "base_uri": "https://localhost:8080/"
        },
        "id": "5qINgALruL0Q",
        "outputId": "d5110baa-26cf-4683-d09e-e647bf4196d8"
      },
      "source": [
        "#Reviewing the centre of the cluster\n",
        "k_means.cluster_centers_"
      ],
      "execution_count": null,
      "outputs": [
        {
          "output_type": "execute_result",
          "data": {
            "text/plain": [
              "array([[ 1.19238486, -1.32510593, -0.67963841,  0.97016358],\n",
              "       [-0.31952856,  0.28812391,  1.14397016, -1.14260341],\n",
              "       [-0.72276928,  0.89502598, -0.90658925,  0.62188649]])"
            ]
          },
          "metadata": {
            "tags": []
          },
          "execution_count": 67
        }
      ]
    },
    {
      "cell_type": "code",
      "metadata": {
        "colab": {
          "base_uri": "https://localhost:8080/"
        },
        "id": "8bjBT5ONuf8n",
        "outputId": "382b0434-297f-4984-ea5b-bc0a6bdecf66"
      },
      "source": [
        "silhouette_score(df1, k_means.labels_) #assesing K means model 1"
      ],
      "execution_count": null,
      "outputs": [
        {
          "output_type": "execute_result",
          "data": {
            "text/plain": [
              "0.6963481945884472"
            ]
          },
          "metadata": {
            "tags": []
          },
          "execution_count": 68
        }
      ]
    },
    {
      "cell_type": "markdown",
      "metadata": {
        "id": "Zd4iOkQoBfco"
      },
      "source": [
        "###### K Means Cluster 2, K = 5"
      ]
    },
    {
      "cell_type": "code",
      "metadata": {
        "id": "uX9fTawvtgvi",
        "colab": {
          "base_uri": "https://localhost:8080/"
        },
        "outputId": "b1fe5842-4f51-4390-eddf-ab1294741dc1"
      },
      "source": [
        "k_means = KMeans(n_clusters=5, random_state=42)\n",
        "k_means.fit(df1)"
      ],
      "execution_count": null,
      "outputs": [
        {
          "output_type": "execute_result",
          "data": {
            "text/plain": [
              "KMeans(algorithm='auto', copy_x=True, init='k-means++', max_iter=300,\n",
              "       n_clusters=5, n_init=10, n_jobs=None, precompute_distances='auto',\n",
              "       random_state=42, tol=0.0001, verbose=0)"
            ]
          },
          "metadata": {
            "tags": []
          },
          "execution_count": 69
        }
      ]
    },
    {
      "cell_type": "code",
      "metadata": {
        "colab": {
          "base_uri": "https://localhost:8080/"
        },
        "id": "zRJkZowd5oif",
        "outputId": "fee94983-c5cd-4795-af89-4540012dae3a"
      },
      "source": [
        "#Reviewing the centre of the cluster\n",
        "k_means.cluster_centers_"
      ],
      "execution_count": null,
      "outputs": [
        {
          "output_type": "execute_result",
          "data": {
            "text/plain": [
              "array([[ 1.19238486, -1.32510593, -0.67963841,  0.97016358],\n",
              "       [-1.08815238,  0.82744102, -0.75240648,  0.6270464 ],\n",
              "       [ 0.03879611, -0.08524639,  1.02721559, -1.00569483],\n",
              "       [-1.44466803,  1.46050665,  1.51057952, -1.57249636],\n",
              "       [ 1.11876151,  1.23565419, -1.68367042,  0.59588052]])"
            ]
          },
          "metadata": {
            "tags": []
          },
          "execution_count": 70
        }
      ]
    },
    {
      "cell_type": "code",
      "metadata": {
        "colab": {
          "base_uri": "https://localhost:8080/"
        },
        "id": "bHbRw5CT6SUF",
        "outputId": "3b2f7d75-167b-44ad-ee36-ab2ba11e59c5"
      },
      "source": [
        "silhouette_score(df1, k_means.labels_) #assesing k means model 2"
      ],
      "execution_count": null,
      "outputs": [
        {
          "output_type": "execute_result",
          "data": {
            "text/plain": [
              "0.8048976287755765"
            ]
          },
          "metadata": {
            "tags": []
          },
          "execution_count": 71
        }
      ]
    },
    {
      "cell_type": "markdown",
      "metadata": {
        "id": "W5BklQuGc1Wi"
      },
      "source": [
        "###### K Means Cluster 3, K = 7"
      ]
    },
    {
      "cell_type": "code",
      "metadata": {
        "colab": {
          "base_uri": "https://localhost:8080/"
        },
        "id": "lpNRGEDL6SiQ",
        "outputId": "1489f0b7-3805-43ee-91fe-62ce3f14845d"
      },
      "source": [
        "k_means = KMeans(n_clusters=7, random_state=42)\n",
        "k_means.fit(df1)"
      ],
      "execution_count": null,
      "outputs": [
        {
          "output_type": "execute_result",
          "data": {
            "text/plain": [
              "KMeans(algorithm='auto', copy_x=True, init='k-means++', max_iter=300,\n",
              "       n_clusters=7, n_init=10, n_jobs=None, precompute_distances='auto',\n",
              "       random_state=42, tol=0.0001, verbose=0)"
            ]
          },
          "metadata": {
            "tags": []
          },
          "execution_count": 72
        }
      ]
    },
    {
      "cell_type": "code",
      "metadata": {
        "colab": {
          "base_uri": "https://localhost:8080/"
        },
        "id": "xGckqCCu5zPJ",
        "outputId": "ebd1c2da-f3b2-485e-9f91-ba8a4a7fc6f9"
      },
      "source": [
        "#Reviewing the centre of the cluster\n",
        "k_means.cluster_centers_"
      ],
      "execution_count": null,
      "outputs": [
        {
          "output_type": "execute_result",
          "data": {
            "text/plain": [
              "array([[-1.08815238,  0.82744102, -0.75240648,  0.6270464 ],\n",
              "       [ 0.07457166, -0.04739431,  1.103503  , -1.17579009],\n",
              "       [ 1.20769522, -1.32463708, -0.66366435,  1.15332719],\n",
              "       [-1.44466803,  1.46050665,  1.51057952, -1.57249636],\n",
              "       [ 1.11876151,  1.23565419, -1.68367042,  0.59588052],\n",
              "       [ 0.01284901, -0.11269955,  0.97188625, -0.88232903],\n",
              "       [ 1.1759963 , -1.3256078 , -0.6967374 ,  0.77410112]])"
            ]
          },
          "metadata": {
            "tags": []
          },
          "execution_count": 73
        }
      ]
    },
    {
      "cell_type": "code",
      "metadata": {
        "colab": {
          "base_uri": "https://localhost:8080/"
        },
        "id": "_792eUTT66uq",
        "outputId": "94345faa-e944-441c-d33a-f9e3091a33d3"
      },
      "source": [
        "silhouette_score(df1, k_means.labels_) #assesing k means model 3"
      ],
      "execution_count": null,
      "outputs": [
        {
          "output_type": "execute_result",
          "data": {
            "text/plain": [
              "0.44624135722251396"
            ]
          },
          "metadata": {
            "tags": []
          },
          "execution_count": 74
        }
      ]
    },
    {
      "cell_type": "code",
      "metadata": {
        "colab": {
          "base_uri": "https://localhost:8080/",
          "height": 573
        },
        "id": "v4fUyzbe8KYq",
        "outputId": "55733700-535b-4552-ca47-3fa2de4b4f4a"
      },
      "source": [
        "#selecting the optimal hyperparameters\n",
        "inertias = {}\n",
        "silhouettes = {}\n",
        "for k in range(2, 11):\n",
        "    kmeans = KMeans(n_clusters=k, random_state=42).fit(df1)\n",
        "    inertias[k] = kmeans.inertia_ # Inertia: Sum of distances of samples to their closest cluster center\n",
        "    silhouettes[k] = silhouette_score(df1, kmeans.labels_, metric='euclidean')\n",
        "    \n",
        "\n",
        "plt.figure();\n",
        "plt.plot(list(inertias.keys()), list(inertias.values()));\n",
        "plt.title('K-Means, Elbow Method')\n",
        "plt.xlabel(\"Number of clusters, K\");\n",
        "plt.ylabel(\"Inertia\");\n",
        "\n",
        "\n",
        "plt.figure();\n",
        "plt.plot(list(silhouettes.keys()), list(silhouettes.values()));\n",
        "plt.title('K-Means, Elbow Method')\n",
        "plt.xlabel(\"Number of clusters, K\");\n",
        "plt.ylabel(\"Silhouette\");"
      ],
      "execution_count": null,
      "outputs": [
        {
          "output_type": "display_data",
          "data": {
            "image/png": "[encoded data removed]",
            "text/plain": [
              "<Figure size 432x288 with 1 Axes>"
            ]
          },
          "metadata": {
            "tags": [],
            "needs_background": "light"
          }
        },
        {
          "output_type": "display_data",
          "data": {
            "image/png": "[encoded data removed]",
            "text/plain": [
              "<Figure size 432x288 with 1 Axes>"
            ]
          },
          "metadata": {
            "tags": [],
            "needs_background": "light"
          }
        }
      ]
    },
    {
      "cell_type": "markdown",
      "metadata": {
        "id": "1D02dmBI8Zy5"
      },
      "source": [
        "##### The Ideal Number of clusters is **5** in both the inertia and silhouette plots\n"
      ]
    },
    {
      "cell_type": "markdown",
      "metadata": {
        "id": "ihVtYBWg1NM6"
      },
      "source": [
        "## 1.2: Clustering Algorithm #2"
      ]
    },
    {
      "cell_type": "code",
      "metadata": {
        "id": "r9p6j13VgY2s"
      },
      "source": [
        "#Normalizing the data\n",
        "from sklearn import preprocessing\n",
        "x = df2.values\n",
        "min_max_scaler = preprocessing.MinMaxScaler()\n",
        "x_scaled = min_max_scaler.fit_transform(x)\n",
        "df2 = pd.DataFrame(x_scaled)\n"
      ],
      "execution_count": null,
      "outputs": []
    },
    {
      "cell_type": "code",
      "metadata": {
        "colab": {
          "base_uri": "https://localhost:8080/",
          "height": 206
        },
        "id": "WEKSbwyIhBXX",
        "outputId": "75173fa0-02d5-4033-9c7c-19c83931a846"
      },
      "source": [
        "df2.head(5) #review transfromed data"
      ],
      "execution_count": null,
      "outputs": [
        {
          "output_type": "execute_result",
          "data": {
            "text/html": [
              "<div>\n",
              "<style scoped>\n",
              "    .dataframe tbody tr th:only-of-type {\n",
              "        vertical-align: middle;\n",
              "    }\n",
              "\n",
              "    .dataframe tbody tr th {\n",
              "        vertical-align: top;\n",
              "    }\n",
              "\n",
              "    .dataframe thead th {\n",
              "        text-align: right;\n",
              "    }\n",
              "</style>\n",
              "<table border=\"1\" class=\"dataframe\">\n",
              "  <thead>\n",
              "    <tr style=\"text-align: right;\">\n",
              "      <th></th>\n",
              "      <th>0</th>\n",
              "      <th>1</th>\n",
              "      <th>2</th>\n",
              "      <th>3</th>\n",
              "    </tr>\n",
              "  </thead>\n",
              "  <tbody>\n",
              "    <tr>\n",
              "      <th>0</th>\n",
              "      <td>0.5125</td>\n",
              "      <td>0.505915</td>\n",
              "      <td>0.791329</td>\n",
              "      <td>0.327991</td>\n",
              "    </tr>\n",
              "    <tr>\n",
              "      <th>1</th>\n",
              "      <td>0.5250</td>\n",
              "      <td>0.536915</td>\n",
              "      <td>0.791082</td>\n",
              "      <td>0.270883</td>\n",
              "    </tr>\n",
              "    <tr>\n",
              "      <th>2</th>\n",
              "      <td>0.5625</td>\n",
              "      <td>0.482700</td>\n",
              "      <td>0.702657</td>\n",
              "      <td>0.462950</td>\n",
              "    </tr>\n",
              "    <tr>\n",
              "      <th>3</th>\n",
              "      <td>0.5250</td>\n",
              "      <td>0.479792</td>\n",
              "      <td>0.765680</td>\n",
              "      <td>0.367317</td>\n",
              "    </tr>\n",
              "    <tr>\n",
              "      <th>4</th>\n",
              "      <td>0.8750</td>\n",
              "      <td>0.044308</td>\n",
              "      <td>0.348778</td>\n",
              "      <td>0.843475</td>\n",
              "    </tr>\n",
              "  </tbody>\n",
              "</table>\n",
              "</div>"
            ],
            "text/plain": [
              "        0         1         2         3\n",
              "0  0.5125  0.505915  0.791329  0.327991\n",
              "1  0.5250  0.536915  0.791082  0.270883\n",
              "2  0.5625  0.482700  0.702657  0.462950\n",
              "3  0.5250  0.479792  0.765680  0.367317\n",
              "4  0.8750  0.044308  0.348778  0.843475"
            ]
          },
          "metadata": {
            "tags": []
          },
          "execution_count": 77
        }
      ]
    },
    {
      "cell_type": "code",
      "metadata": {
        "colab": {
          "base_uri": "https://localhost:8080/"
        },
        "id": "WR5d-IJZDIIN",
        "outputId": "6e4c0557-3c16-4b1c-9867-4d0b62760376"
      },
      "source": [
        "#DBSCAN Model 1\n",
        "db = DBSCAN(eps=0.3, min_samples=3, leaf_size=30, metric='euclidean')\n",
        "db.fit(df2)"
      ],
      "execution_count": null,
      "outputs": [
        {
          "output_type": "execute_result",
          "data": {
            "text/plain": [
              "DBSCAN(algorithm='auto', eps=0.3, leaf_size=30, metric='euclidean',\n",
              "       metric_params=None, min_samples=3, n_jobs=None, p=None)"
            ]
          },
          "metadata": {
            "tags": []
          },
          "execution_count": 78
        }
      ]
    },
    {
      "cell_type": "code",
      "metadata": {
        "colab": {
          "base_uri": "https://localhost:8080/"
        },
        "id": "TiLpl4YbmAei",
        "outputId": "d46c3a63-35b9-42a4-f8d0-e9e6c05aa042"
      },
      "source": [
        "db.labels_"
      ],
      "execution_count": null,
      "outputs": [
        {
          "output_type": "execute_result",
          "data": {
            "text/plain": [
              "array([0, 0, 0, 0, 1, 2, 0, 1, 1, 1, 3, 4, 4, 4, 0, 3, 0, 1, 1, 3, 4, 3,\n",
              "       0, 1, 3, 2, 2, 0, 1, 0, 0, 0, 1, 0, 4, 0, 1, 0, 4, 4, 0, 1, 2, 0,\n",
              "       0, 2, 3, 2, 4, 0, 1, 4, 2, 1, 0, 1, 4, 1, 1, 1, 1, 1, 1, 0, 0, 0,\n",
              "       1, 2, 2, 0, 0, 4, 1, 1, 4, 0, 4, 0, 0, 2, 0, 3, 0, 1, 1, 4, 4, 0,\n",
              "       0, 0, 0, 0, 2, 1, 0, 2, 4, 0, 0, 4, 4, 2, 4, 2, 4, 1, 1, 4, 4, 0,\n",
              "       1, 4, 0, 4, 4, 4, 0, 4, 2, 1, 4, 1, 1, 1, 4, 3, 0, 1, 0, 0, 4, 0,\n",
              "       4, 0, 2, 1, 3, 2, 0, 4, 1, 0, 0, 2, 0, 2, 0, 3, 0, 1, 0, 4, 1, 0,\n",
              "       1, 3, 4, 0, 1, 0, 4, 1, 0, 4, 1, 4, 1, 0, 4, 0, 1, 0, 4, 0, 1, 0,\n",
              "       0, 1, 1, 1, 0, 0, 4, 2, 2, 1, 4, 0, 0, 0, 4, 1, 0, 0, 0, 1, 2, 4,\n",
              "       1, 1, 1, 4, 0, 4, 0, 4, 0, 1, 2, 0, 1, 1, 1, 1, 0, 1, 4, 2, 4, 1,\n",
              "       0, 0, 4, 1, 4, 2, 4, 0, 0, 1, 0, 0, 1, 0, 0, 0, 4, 0, 4, 4, 2, 0,\n",
              "       0, 0, 3, 0, 4, 1, 2, 2, 2, 1, 0, 4, 1, 1, 4, 4, 0, 0, 3, 0, 0, 1,\n",
              "       0, 1, 4, 2, 0, 4, 1, 0, 1, 1, 4, 0, 1, 1, 0, 0, 1, 4, 4, 3, 4, 1,\n",
              "       1, 4, 3, 1, 1, 2, 0, 4, 4, 0, 4, 1, 1, 4, 0, 4, 1, 0, 4, 2, 0, 1,\n",
              "       4, 4, 1, 3, 3, 0, 1, 4, 0, 0, 1, 4, 1, 4, 1, 4, 1, 1, 4, 1, 4, 0,\n",
              "       4, 0, 0, 4, 4, 1, 1, 2, 2, 4, 1, 2, 1, 3, 0, 0, 0, 1, 1, 4, 4, 3,\n",
              "       4, 3, 0, 4, 2, 1, 0, 1, 2, 0, 1, 1, 0, 1, 4, 0, 3, 4, 4, 0, 1, 1,\n",
              "       1, 1, 1, 4, 4, 1, 0, 4, 0, 3, 1, 1, 0, 1, 1, 0, 1, 1, 4, 1, 0, 4,\n",
              "       2, 4, 0, 1, 4, 0, 0, 0, 1, 4, 2, 4, 0, 4, 0, 0, 2, 4, 3, 2, 4, 4,\n",
              "       1, 0, 1, 4, 1, 4, 0, 0, 1, 3, 4, 1, 4, 0, 0, 4, 0, 1, 0, 4, 0, 1,\n",
              "       0, 1, 2, 4, 4, 2, 4, 4, 1, 1, 0, 2, 0, 4, 4, 3, 2, 4, 2, 1, 4, 4,\n",
              "       0, 4, 1, 1, 2, 0, 4, 0, 0, 4, 0, 0, 0, 1, 4, 4, 0, 0, 0, 1, 4, 1,\n",
              "       1, 1, 1, 2, 1, 1, 1, 0, 0, 1, 1, 0, 2, 1, 4, 2, 4, 1, 1, 1, 1])"
            ]
          },
          "metadata": {
            "tags": []
          },
          "execution_count": 79
        }
      ]
    },
    {
      "cell_type": "code",
      "metadata": {
        "colab": {
          "base_uri": "https://localhost:8080/"
        },
        "id": "xN-AYIMwDIgZ",
        "outputId": "d77f4b94-b73b-447d-fe18-fe3f0e5a4bdb"
      },
      "source": [
        "silhouette_score(df2, db.labels_) #assesing model results\n",
        "db.fit(df2)"
      ],
      "execution_count": null,
      "outputs": [
        {
          "output_type": "execute_result",
          "data": {
            "text/plain": [
              "0.8156911152768872"
            ]
          },
          "metadata": {
            "tags": []
          },
          "execution_count": 80
        },
        {
          "output_type": "execute_result",
          "data": {
            "text/plain": [
              "DBSCAN(algorithm='auto', eps=0.3, leaf_size=30, metric='euclidean',\n",
              "       metric_params=None, min_samples=3, n_jobs=None, p=None)"
            ]
          },
          "metadata": {
            "tags": []
          },
          "execution_count": 80
        }
      ]
    },
    {
      "cell_type": "code",
      "metadata": {
        "colab": {
          "base_uri": "https://localhost:8080/"
        },
        "id": "wpFesZIDFz0W",
        "outputId": "661bc61b-ae0c-4e62-92d9-06de3cbc8274"
      },
      "source": [
        "#DB Scan Model 2\n",
        "db2 = DBSCAN(eps=0.5, min_samples=4)\n",
        "db2.fit(df2)"
      ],
      "execution_count": null,
      "outputs": [
        {
          "output_type": "execute_result",
          "data": {
            "text/plain": [
              "DBSCAN(algorithm='auto', eps=0.5, leaf_size=30, metric='euclidean',\n",
              "       metric_params=None, min_samples=4, n_jobs=None, p=None)"
            ]
          },
          "metadata": {
            "tags": []
          },
          "execution_count": 81
        }
      ]
    },
    {
      "cell_type": "code",
      "metadata": {
        "colab": {
          "base_uri": "https://localhost:8080/"
        },
        "id": "we_VIftGF09k",
        "outputId": "63a3c311-c33e-4b6c-bbef-004729aae0a9"
      },
      "source": [
        "silhouette_score(df2, db.labels_) #assesing Model Results\n",
        "db2.fit(df2)"
      ],
      "execution_count": null,
      "outputs": [
        {
          "output_type": "execute_result",
          "data": {
            "text/plain": [
              "0.8156911152768872"
            ]
          },
          "metadata": {
            "tags": []
          },
          "execution_count": 82
        },
        {
          "output_type": "execute_result",
          "data": {
            "text/plain": [
              "DBSCAN(algorithm='auto', eps=0.5, leaf_size=30, metric='euclidean',\n",
              "       metric_params=None, min_samples=4, n_jobs=None, p=None)"
            ]
          },
          "metadata": {
            "tags": []
          },
          "execution_count": 82
        }
      ]
    },
    {
      "cell_type": "code",
      "metadata": {
        "colab": {
          "base_uri": "https://localhost:8080/"
        },
        "id": "mChanpDVF1AF",
        "outputId": "81dbb76b-c528-449b-a5fe-2a72fe24c9f5"
      },
      "source": [
        "#DB San Model 3\n",
        "db3 = DBSCAN(eps=0.1, min_samples=5)\n",
        "db3.fit(df2)"
      ],
      "execution_count": null,
      "outputs": [
        {
          "output_type": "execute_result",
          "data": {
            "text/plain": [
              "DBSCAN(algorithm='auto', eps=0.1, leaf_size=30, metric='euclidean',\n",
              "       metric_params=None, min_samples=5, n_jobs=None, p=None)"
            ]
          },
          "metadata": {
            "tags": []
          },
          "execution_count": 83
        }
      ]
    },
    {
      "cell_type": "code",
      "metadata": {
        "colab": {
          "base_uri": "https://localhost:8080/"
        },
        "id": "cRSH-wPSF1Cl",
        "outputId": "916bb32b-070f-490c-b762-65f9dbeee029"
      },
      "source": [
        "silhouette_score(df2, db.labels_) #assesing model results\n",
        "db3.fit(df2)"
      ],
      "execution_count": null,
      "outputs": [
        {
          "output_type": "execute_result",
          "data": {
            "text/plain": [
              "0.8156911152768872"
            ]
          },
          "metadata": {
            "tags": []
          },
          "execution_count": 84
        },
        {
          "output_type": "execute_result",
          "data": {
            "text/plain": [
              "DBSCAN(algorithm='auto', eps=0.1, leaf_size=30, metric='euclidean',\n",
              "       metric_params=None, min_samples=5, n_jobs=None, p=None)"
            ]
          },
          "metadata": {
            "tags": []
          },
          "execution_count": 84
        }
      ]
    },
    {
      "cell_type": "code",
      "metadata": {
        "colab": {
          "base_uri": "https://localhost:8080/",
          "height": 295
        },
        "id": "IZOJNuiIF1IJ",
        "outputId": "1d1600cc-0dae-4799-e44c-521d2bb63e69"
      },
      "source": [
        "#Assessing the optimum hyperparamaters \n",
        "silhouettes = {}\n",
        "\n",
        "epss = np.arange(0.1, 0.9, 0.1)\n",
        "minss = [3, 4, 5, 6, 7, 8, 9, 10]\n",
        "\n",
        "ss = np.zeros((len(epss), len(minss)))\n",
        "\n",
        "for i, eps in enumerate(epss):\n",
        "    for j, mins in enumerate(minss):\n",
        "        db = DBSCAN(eps=eps, min_samples=mins).fit(df2)\n",
        "        if len(set(db.labels_)) == 1:\n",
        "            ss[i, j] = -1\n",
        "        else:\n",
        "            ss[i, j] = silhouette_score(df2, db.labels_, metric='euclidean')\n",
        "    \n",
        "\n",
        "plt.figure();\n",
        "#plt.plot(list(silhouettes.keys()), list(silhouettes.values()));\n",
        "for i in range(len(minss)):\n",
        "    plt.plot(epss, ss[:, i], label=\"MinPts = {}\".format(minss[i]));\n",
        "#plt.plot(epss, ss[:, 1]);\n",
        "plt.title('DBSCAN, Elbow Method')\n",
        "plt.xlabel(\"Eps\");\n",
        "plt.ylabel(\"Silhouette\");\n",
        "plt.legend();\n",
        "#plt.savefig('out/simple_dbscan_elbow');\n"
      ],
      "execution_count": null,
      "outputs": [
        {
          "output_type": "display_data",
          "data": {
            "image/png": "[encoded data removed]",
            "text/plain": [
              "<Figure size 432x288 with 1 Axes>"
            ]
          },
          "metadata": {
            "tags": [],
            "needs_background": "light"
          }
        }
      ]
    },
    {
      "cell_type": "markdown",
      "metadata": {
        "id": "wjhy378HNfvE"
      },
      "source": [
        "##### The optimal hyperparamter  an EPS of 0.1 to 0.4 and MinPts of 8"
      ]
    },
    {
      "cell_type": "markdown",
      "metadata": {
        "id": "6ySJIgNr1Sfy"
      },
      "source": [
        "## 1.3 Model Comparison"
      ]
    },
    {
      "cell_type": "markdown",
      "metadata": {
        "id": "gwQembOT1L6U"
      },
      "source": [
        "The DBSCAN outperforms the RF at the optimal hyperparameters as it has a higher mean score of 0.8156 as opposed to RF which has a mean score of 0.8004. This means that the DBSCAN is able to create clusters which are more differentiated, making it the better option but not significantly as the mean score difference is about 0.0152. In terms of speed, both models had a similar processing time, and one did not outperform the other so there wasn't really a significant advantage of one over the other. For interpretability, I opted to use the RF model as I found it easier to create personas out of its clusters. It might not necessarily be the case for all users, so I would say the ease at which one can interpret the clusters is relative. "
      ]
    },
    {
      "cell_type": "markdown",
      "metadata": {
        "id": "MP2EAnCJ1Xta"
      },
      "source": [
        "## 1.4 Personas"
      ]
    },
    {
      "cell_type": "markdown",
      "metadata": {
        "id": "dVewu2TZ1XhK"
      },
      "source": [
        "####**Cluster 1**- Retired Low spenders\n",
        "\n",
        "This cluster is made up of people in their 80's who are most likely dependent on their retirement package, hence the low income and high savings. They also tend to not spend a lot of money.\n",
        "\n",
        "####**Cluster 2-** Moderate Middle Agers\n",
        "\n",
        "This cluster is made up of people in their mid fifties to early sixties who are decent earners, have moderate to high income, moderate savings and moderate to high spending.\n",
        "\n",
        "#### **Cluster 3** - Responsible 30's\n",
        "\n",
        "This cluster is made up of people in their 30's who are very high earners, spend very little and save a lot.\n",
        "\n",
        "#### **Cluster 4** - Make Money, Spend Money, Save Money\n",
        "\n",
        "This cluster is made up of all ages, ranging from teenagers to people in their early nineties. It is the highest earning cluster of the bunch and has very little spending for those who are 30 and younger and very high spending for those abover 30 years old. The savings pattern in this cluster follows a similar pattern to spending. Those who are 30 and younger tend to save very little while those older than 30 tend to save quite a lot. I think this cluster can be broken down further into 30 and below and 30 and above as they have differentiated mutual traits.\n"
      ]
    },
    {
      "cell_type": "code",
      "metadata": {
        "colab": {
          "base_uri": "https://localhost:8080/"
        },
        "id": "AxIu4ZadMWFp",
        "outputId": "50db15b4-5aa7-422a-d118-33d2d3794cfa"
      },
      "source": [
        "k_means = KMeans(n_clusters=5, random_state=42) #recreating model with the optimal number of clusters for interpretation\n",
        "k_means.fit(df5)"
      ],
      "execution_count": null,
      "outputs": [
        {
          "output_type": "execute_result",
          "data": {
            "text/plain": [
              "KMeans(algorithm='auto', copy_x=True, init='k-means++', max_iter=300,\n",
              "       n_clusters=5, n_init=10, n_jobs=None, precompute_distances='auto',\n",
              "       random_state=42, tol=0.0001, verbose=0)"
            ]
          },
          "metadata": {
            "tags": []
          },
          "execution_count": 86
        }
      ]
    },
    {
      "cell_type": "code",
      "metadata": {
        "colab": {
          "base_uri": "https://localhost:8080/"
        },
        "id": "2JlExaX0MkIQ",
        "outputId": "3939af8f-5b36-437b-f897-6d67fd23ae13"
      },
      "source": [
        "for label in set(k_means.labels_):\n",
        "    print('\\nCluster {}:'.format(label))\n",
        "    print(df5[k_means.labels_==label].head())"
      ],
      "execution_count": null,
      "outputs": [
        {
          "output_type": "stream",
          "text": [
            "\n",
            "Cluster 0:\n",
            "    Age  Income  SpendingScore       Savings\n",
            "10   85  111389       0.036795  16009.237763\n",
            "13   31  107963       0.290509  13407.081391\n",
            "19   88  120678       0.063273  14264.473847\n",
            "24   89  119697       0.091679  16215.399077\n",
            "39   31  111449       0.294106  13929.621551\n",
            "\n",
            "Cluster 1:\n",
            "    Age  Income  SpendingScore       Savings\n",
            "4    87   17760       0.348778  16869.507130\n",
            "7    87   42592       0.355290  18086.287158\n",
            "8    83   34384       0.324719  14783.379086\n",
            "9    84   27693       0.367063  17879.558906\n",
            "17   87   31481       0.317424  16180.688082\n",
            "\n",
            "Cluster 2:\n",
            "   Age  Income  SpendingScore      Savings\n",
            "0   58   77769       0.791329  6559.829923\n",
            "1   59   81799       0.791082  5417.661426\n",
            "2   62   74751       0.702657  9258.992965\n",
            "3   59   74373       0.765680  7346.334504\n",
            "6   54   76500       0.785198  6878.884249\n",
            "\n",
            "Cluster 3:\n",
            "    Age  Income  SpendingScore       Savings\n",
            "11   36   99780       0.265433  16398.401333\n",
            "12   30   99949       0.344679  13621.639726\n",
            "20   30  101073       0.314387  14324.555977\n",
            "34   33  101058       0.315082  14911.868398\n",
            "38   39  100540       0.384923  16741.013895\n",
            "\n",
            "Cluster 4:\n",
            "    Age  Income  SpendingScore       Savings\n",
            "5    29  131578       0.847034   3535.514352\n",
            "15   92  122879       0.060724  13709.670275\n",
            "21   84  122696       0.082187  13809.734087\n",
            "25   30  122788       0.872872   5706.149573\n",
            "26   17  134966       0.907242   4128.044796\n"
          ],
          "name": "stdout"
        }
      ]
    },
    {
      "cell_type": "markdown",
      "metadata": {
        "id": "DYwuYIgczYSv"
      },
      "source": [
        "# Question 2: Uncle Steve's Fine Foods"
      ]
    },
    {
      "cell_type": "markdown",
      "metadata": {
        "id": "4oCr-mTfNG-H"
      },
      "source": [
        "## Instructions\n",
        "\n",
        "Uncle Steve runs a small, local grocery store in Ontario. The store sells all the normal food staples (e.g., bread, milk, cheese, eggs, more cheese, fruits, vegatables, meat, fish, waffles, ice cream, pasta, cereals, drinks), personal care products (e.g., toothpaste, shampoo, hair goo), medicine, and cakes. There's even a little section with flowers and greeting cards! Normal people shop here, and buy normal things in the normal way.\n",
        "\n",
        "Business is OK but Uncle Steve wants more. He's thus on the hunt for customer insights. Given your success at the jewelry store, he has asked you to help him out. \n",
        "\n",
        "He has given you a few years' worth of customer transactions, i.e., sets of items that customers have purchased. You have applied an association rules learning algorithm (like Apriori) to the data, and the algorithm has generated a large set of association rules of the form `{X} -> {Y}`, where `{X}` and `{Y}` are item-sets.\n",
        "\n",
        "Now comes a thought experiment. For each of the following scenarios, state what one of the discovered association rules might be that would meet the stated condition. (Just make up the rule, using your human experience and intuition.) Also, describe whether and why each rule would be considered interesting or uninteresting for Uncle Steve (i.e., is this insight new to him? Would he be able to use it somehow?).\n",
        "\n",
        "Keep each answer to 600 characters or less (including spaces).\n",
        "\n",
        "To get those brain juices going, an example condition and answer is provided below:\n",
        "\n",
        "> Condition: A rule that has high support.\n",
        "\n",
        "> Answer: The rule `{milk} -> {bread}` would have high support, since milk and bread are household staples and a high percentage of transactions would include both `{milk}` and `{bread}`. Uncle Steve would likely not find this rule interesting, because these items are so common, he would have surely already noticed that so many transactions contain them.\n",
        "\n",
        "**Marking**\n",
        "\n",
        "Your responses will be marked as follows:\n",
        "\n",
        "- *Correctness*. Rule meets the specificed condition, and seems plausible in an Ontario grocery store.\n",
        "- *Justification of interestness*. Response clearly describes whether and why the rule would be considered interesting to Uncle Steve.\n",
        "\n",
        "**Tips**\n",
        "\n",
        "- There is no actual data for this question. This question is just a thought exercise. You need to use your intuition, creatitivty, and understanding of the real world. I assume you are familiar with what happens inside of normal grocery stores. We are not using actual data and you do not need to create/generate/find any data. I repeat: there is no data for this question.\n",
        "- The reason this question is having you do a thought experiment, rather than writing and running code to find actual association rules on an actual dataset, is because writing code to find association rules is actually pretty easy. But using your brain to come up with rules that meet certain criteria, on the other hand, is a true test of whether you understand how the algorithm works, what support and confidence mean, and the applicability of rules. The question uses the grocery store context because most, if not all, students should be familiar from personal experience.\n",
        "\n"
      ]
    },
    {
      "cell_type": "markdown",
      "metadata": {
        "id": "3YQsOb6CzYVq"
      },
      "source": [
        "## 2.1: A rule that might have high support and high confidence. "
      ]
    },
    {
      "cell_type": "markdown",
      "metadata": {
        "id": "DzXu1IvK-MEg"
      },
      "source": [
        "{Cake} -> {Balloons}\n",
        " \n",
        " In most Ontario grocery stores it is quite common to see a cake purchased alongside other celebratory items such as balloons. Nonetheless,  cakes tend to be in the bakery section while balloons are at a different section of the store, right next to the flowers, celebratory cards etc. Since both goods are complimentary, it might be more beneficial to have them displayed within the same area or at least within a similar eye view range. That way, Uncle Steve can increase the chances of both complimentary goods being bought at the same time by customers who might have just intended to make a single purchase of both items. For instance, a customer might have come to the store to purchase a birthday cake and if they saw balloons right next to the cake, they may be incentivized to buy balloons as well to compliment the cake. Those items tend to go well together, especially for celebratory purposes. Ultimately, having complimentary products side by side can increase cross selling and overall product sales."
      ]
    },
    {
      "cell_type": "markdown",
      "metadata": {
        "id": "VNIrAgJk-L4l"
      },
      "source": [
        "## 2.2: A rule that might have reasonably high support but low confidence."
      ]
    },
    {
      "cell_type": "markdown",
      "metadata": {
        "id": "svdzYW3S-LvF"
      },
      "source": [
        "{Canned Food} -> {Can Opener}\n",
        "\n",
        "Canned food are staple household items, depending on what time of food you consume.  On average these items tend to be opened with can openers and as a result, it is not uncommon to see both items in the same basket. Nonetheless, canned foods do not necessarily increase the likelihood of buying a can opener with every purchase of canned foods. This is because can openers are items that people purchase sparingly. People tend to purchase can openers only when their current can opener is broken or worn out. This is a key insight for Uncle Steve in terms of product placement and display space usage. Given that can openers are not products that are purchased very often, I would recommend that Uncle Steve does not provide a lot of shelf space for it. I would recommend that he places these items close to the canned foods, in terms of the display but with less shelf space so that he can have space for other products that need it more. Uncle Steve can economize the shelf space by hanging the can openers across the canned foods shelf. This layout also makes it accessible for his customers to purchase the products that they need with ease."
      ]
    },
    {
      "cell_type": "markdown",
      "metadata": {
        "id": "loe--LMz-Ll8"
      },
      "source": [
        "## 2.3: A rule that might have low support and low confidence."
      ]
    },
    {
      "cell_type": "markdown",
      "metadata": {
        "id": "HdyOB5fe-Zgy"
      },
      "source": [
        "{Regular Coke} -> {Diet Coke}\n",
        "\n",
        "\n",
        "People tend to be either diet coke or regular coke drinkers. It is odd to see and individual purchasing both items unless it’s for people other than themselves. But for this example, let’s assume that it’s based on a specific individuals purchase. A purchase of coke will unlikely increase the purchase of diet coke as individuals will have a strong preference between both items. This is important for Uncle Steve to know because its plausible for him to treat both items as substitutes. That is to say that he may think that if coke is out of stock, his customers might easily replace it with diet coke but that will most likely not be the case due to their strong preference per each item. The absence of coke will most likely result in an overall non purchase which will be lost sales for Uncle Steve had he had both items readily available. Therefore, Uncle Steve needs to treat both items as individuals and not substitutes and ensure that they are always stocked so his customers are able to purchase their preferred option which will translate to regular sales for him.\n",
        "\n"
      ]
    },
    {
      "cell_type": "markdown",
      "metadata": {
        "id": "St2eI3We-ZYs"
      },
      "source": [
        "## 2.4: A rule that might have low support and high confidence."
      ]
    },
    {
      "cell_type": "markdown",
      "metadata": {
        "id": "LcdZc-B1-fE7"
      },
      "source": [
        "{Vegetable Platter} -> {Red Solo Cup}\n",
        "\n",
        "Right off the bat this seems like an odd combo, and it is not very common to see vegetables mixed with an item such as red solo cups. Veggie platters suggest relatively healthy eating, while red solo cups suggest college frat parties. Nonetheless, both items are products that one could easily spot at casual parties. Casual parties or get togethers tend to include plastic cups, plates etc. In my experience, there are almost always veggie options available for vegetarians and “healthy eaters” at these events, and veggie platters are they go-to due to the variety it offers. As a result, the purchase of a veggie platter can increase the likelihood of the purchase of a red solo cup. This is important for Uncle Steve to know in terms of product placement and cross-selling and up-selling. I would suggest that Uncle Steve places red solo cups relatively close to the veggie platter section, perhaps on a mini stand to encourage potential buyers who are purchasing veggie platters to pick up red solo cups as well. This will ultimately translate into more sales and better customer experience as their products of interest are within close range."
      ]
    },
    {
      "cell_type": "markdown",
      "metadata": {
        "id": "B_IHoz7f2yIV"
      },
      "source": [
        "# Question 3: Uncle Steve's Credit Union"
      ]
    },
    {
      "cell_type": "markdown",
      "metadata": {
        "id": "WhERdkp_zYBY"
      },
      "source": [
        "## Instructions\n",
        "\n",
        "Uncle Steve has recently opened a new credit union in Kingston, named *Uncle Steve's Credit Union*. He plans to disrupt the local market by instaneously providing credit to customers.\n",
        "\n",
        "The first step in Uncle Steve's master plan is to create a model to predict whether an application has *good risk* or *bad risk*. He has outsourced the creation of this model to you.\n",
        "\n",
        "You are to create a classification model to predict whether a loan applicant has good risk or bad risk. You will use data  that Uncle Steve bought from another credit union (somewhere in Europe, he thinks?) that has around 6000 instances and a number of demographics features (e.g., `Sex`, `DateOfBirth`, `Married`), loan details (e.g., `Amount`, `Purpose`), credit history (e.g., number of loans), as well as an indicator (called `BadCredit` in the dataset) as to whether that person was a bad risk.\n",
        "\n",
        "\n",
        "**Your tasks**\n",
        "\n",
        "To examine the effects of the various ML stages, you are to create the model several times, each time adding more sophistication, and measuring how much the model improved (or not). In particular, you will:\n",
        "\n",
        "0. Split the data in training and testing. Don't touch the testing data again, for any reason, until step 5. We are pretending that the testing data is \"future, unseen data that our model won't see until production.\" I'm serious, don't touch it. I'm watching you!\n",
        "1. Build a baseline model - no feature engineering, no feature selection, no hyperparameter tuning (just use the default settings), nothing fancy. (You may need to do some basic feature transformations, e.g., encoding of categorical features, or dropping of features you do not think will help or do not want to deal with yet.) Measure the performance using K-fold cross validation (recommended: [`sklearn.model_selection.cross_val_score`](https://scikit-learn.org/stable/modules/generated/sklearn.model_selection.cross_val_score.html#sklearn.model_selection.cross_val_score)) on the training data. Use at least 5 folds, but more are better. Choose a [`scoring` parameter](https://scikit-learn.org/stable/modules/model_evaluation.html#scoring-parameter) (i.e., classification metric) that you feel is appropriate for this task. Don't use accuracy. Print the mean score of your model.\n",
        "2. Add a bit of feature engineering. The [`sklearn.preprocessing`](https://scikit-learn.org/stable/modules/classes.html#module-sklearn.preprocessing) module contains many useful transformations. Engineer at least three new features. They don't need to be especially ground-breaking or complicated. Dimensionality reduction techniques like [`sklearn.decomposition.PCA`](https://scikit-learn.org/stable/modules/generated/sklearn.decomposition.PCA.html) are fair game but not required. (If you do use dimensionality reduction techniques, it would only count as \"one\" new feature for the purposes of this assignment, even though I realize that PCA creates many new \"features\" (i.e., principal componentns).) Re-train your baseline model. Measure performance. Compare to step 1.\n",
        "3. Add feature selection. The [`sklearn.feature_selection`](https://scikit-learn.org/stable/modules/classes.html#module-sklearn.feature_selection) has some algorithms for you to choose from. After selecting features, re-train your model, measure performance, and compare to step 2.\n",
        "4. Add hyperparameter tuning. Make reasonable choices and try to find the best (or at least, better) hyperparameters for your estimator and/or transformers. It's probably a good idea to stop using `cross_val_score` at this point and start using [`sklearn.model_selection.GridSearchCV`](https://scikit-learn.org/stable/modules/generated/sklearn.model_selection.GridSearchCV.html#sklearn.model_selection.GridSearchCV) as it is specifically built for this purpose and is more convienient to use. Measure performance and compare to step 3.\n",
        "5. Finally, estimate how well your model will work in production. Use the testing data (our \"future, unseen data\") from step 0. Transform the data as appropriate (easy if you've built a pipeline, a little more difficult if not), use the model from step 4 to get predictions, and measure the performance. How well did we do? \n",
        "\n",
        "\n",
        "**Marking**\n",
        "\n",
        "Each part will be marked for:\n",
        "- *Correctness*. Code clearly and fully performs the task specified.\n",
        "- *Reproducibility*. Code is fully reproducible. I.e., you (and I) should be able to run this Notebook again and again, from top to bottom, and get the same results each and every time.\n",
        "- *Style*. Code is organized. All parts commented with clear reasoning and rationale. No old code laying around. Code easy to follow. \n",
        "\n",
        "\n",
        "**Tips**\n",
        "- The origins of the dataset are a bit of a mystery. Assume the data set is recent (circa 2021) and up-to-date. Assume that column names are correct and accurate.\n",
        "- You don't need to experiment with more than one algorithm/estimator. Just choose one (e.g., [`sklearn.tree.DecisionTreeClassifier`](https://scikit-learn.org/stable/modules/generated/sklearn.tree.DecisionTreeClassifier.html#sklearn.tree.DecisionTreeClassifier), [`sklearn.ensemble.RandomForestClassifier`](https://scikit-learn.org/stable/modules/generated/sklearn.ensemble.RandomForestClassifier.html#sklearn.ensemble.RandomForestClassifier), [`sklearn.linear_model.LogisticRegression`](https://scikit-learn.org/stable/modules/generated/sklearn.linear_model.LogisticRegression.html#sklearn.linear_model.LogisticRegression), [`sklearn.svm.LinearSVC`](https://scikit-learn.org/stable/modules/generated/sklearn.svm.LinearSVC.html#sklearn.svm.LinearSVC), whatever) and stick with it for this question. \n",
        "- There is no minimum accuracy/precision/recall for this question. I.e., your mark will not be based on how good your model is. Rather, you mark will be based on good your process is.\n",
        "- Watch out for data leakage and overfitting. In particular, be sure to `fit()` any estimators and transformers (collectively, *objects*) only to the training data, and then use the objects' `transform()` methods on both the training and testing data. [Data School](https://www.youtube.com/c/dataschool/featured) has a [helpful video](https://www.youtube.com/watch?v=g2XsZdwbCCs) about this. [Pipelines](https://www.youtube.com/watch?v=1Y6O9nCo0-I) are very helpful here and make your code shorter and more robust (at the expense of making it harder to understand), and I recommend using them, but they are not required for this assignment.\n",
        "- Create as many code cells as you need. In general, each cell should do one \"thing.\"\n",
        "-\tDon't print large volumes of output. E.g., don't do: `df.head(100)`\n",
        "\n",
        "\n"
      ]
    },
    {
      "cell_type": "markdown",
      "metadata": {
        "id": "jqm_REd4oouz"
      },
      "source": [
        "## 3.0: Load data and split"
      ]
    },
    {
      "cell_type": "code",
      "metadata": {
        "id": "X6b_BM0Nz9sF",
        "colab": {
          "base_uri": "https://localhost:8080/"
        },
        "outputId": "f1a4d0e1-ad63-4800-ede1-6253e565ae16"
      },
      "source": [
        "# DO NOT MODIFY THIS CELL\n",
        "\n",
        "# First, we'll read the provided labeled training data\n",
        "df3 = pd.read_csv(\"https://drive.google.com/uc?export=download&id=1wOhyCnvGeY4jplxI8lZ-bbYN3zLtickf\")\n",
        "df3.info()\n",
        "\n",
        "from sklearn.model_selection import train_test_split\n",
        "\n",
        "X = df3.drop('BadCredit', axis=1) #.select_dtypes(['number'])\n",
        "y = df3['BadCredit']\n",
        "\n",
        "X_train, X_test, y_train, y_test = train_test_split(X, y, test_size=0.2, random_state=42)"
      ],
      "execution_count": null,
      "outputs": [
        {
          "output_type": "stream",
          "text": [
            "<class 'pandas.core.frame.DataFrame'>\n",
            "RangeIndex: 6000 entries, 0 to 5999\n",
            "Data columns (total 17 columns):\n",
            " #   Column             Non-Null Count  Dtype \n",
            "---  ------             --------------  ----- \n",
            " 0   UserID             6000 non-null   object\n",
            " 1   Sex                6000 non-null   object\n",
            " 2   PreviousDefault    6000 non-null   int64 \n",
            " 3   FirstName          6000 non-null   object\n",
            " 4   LastName           6000 non-null   object\n",
            " 5   NumberPets         6000 non-null   int64 \n",
            " 6   PreviousAccounts   6000 non-null   int64 \n",
            " 7   ResidenceDuration  6000 non-null   int64 \n",
            " 8   Street             6000 non-null   object\n",
            " 9   LicensePlate       6000 non-null   object\n",
            " 10  BadCredit          6000 non-null   int64 \n",
            " 11  Amount             6000 non-null   int64 \n",
            " 12  Married            6000 non-null   int64 \n",
            " 13  Duration           6000 non-null   int64 \n",
            " 14  City               6000 non-null   object\n",
            " 15  Purpose            6000 non-null   object\n",
            " 16  DateOfBirth        6000 non-null   object\n",
            "dtypes: int64(8), object(9)\n",
            "memory usage: 797.0+ KB\n"
          ],
          "name": "stdout"
        }
      ]
    },
    {
      "cell_type": "code",
      "metadata": {
        "colab": {
          "base_uri": "https://localhost:8080/"
        },
        "id": "1S8cr4ZkSsCZ",
        "outputId": "0a9cd9ef-c8db-45a1-e0d9-52030ede0be0"
      },
      "source": [
        "X.info() #Reviewing Data "
      ],
      "execution_count": null,
      "outputs": [
        {
          "output_type": "stream",
          "text": [
            "<class 'pandas.core.frame.DataFrame'>\n",
            "RangeIndex: 6000 entries, 0 to 5999\n",
            "Data columns (total 16 columns):\n",
            " #   Column             Non-Null Count  Dtype \n",
            "---  ------             --------------  ----- \n",
            " 0   UserID             6000 non-null   object\n",
            " 1   Sex                6000 non-null   object\n",
            " 2   PreviousDefault    6000 non-null   int64 \n",
            " 3   FirstName          6000 non-null   object\n",
            " 4   LastName           6000 non-null   object\n",
            " 5   NumberPets         6000 non-null   int64 \n",
            " 6   PreviousAccounts   6000 non-null   int64 \n",
            " 7   ResidenceDuration  6000 non-null   int64 \n",
            " 8   Street             6000 non-null   object\n",
            " 9   LicensePlate       6000 non-null   object\n",
            " 10  Amount             6000 non-null   int64 \n",
            " 11  Married            6000 non-null   int64 \n",
            " 12  Duration           6000 non-null   int64 \n",
            " 13  City               6000 non-null   object\n",
            " 14  Purpose            6000 non-null   object\n",
            " 15  DateOfBirth        6000 non-null   object\n",
            "dtypes: int64(7), object(9)\n",
            "memory usage: 750.1+ KB\n"
          ],
          "name": "stdout"
        }
      ]
    },
    {
      "cell_type": "code",
      "metadata": {
        "colab": {
          "base_uri": "https://localhost:8080/",
          "height": 469
        },
        "id": "BEsCGaTCU6wY",
        "outputId": "fc3903c2-689f-4779-a5da-1f6aac93bc0f"
      },
      "source": [
        "X.head(5) #Reviewing features more closely"
      ],
      "execution_count": null,
      "outputs": [
        {
          "output_type": "execute_result",
          "data": {
            "text/html": [
              "<div>\n",
              "<style scoped>\n",
              "    .dataframe tbody tr th:only-of-type {\n",
              "        vertical-align: middle;\n",
              "    }\n",
              "\n",
              "    .dataframe tbody tr th {\n",
              "        vertical-align: top;\n",
              "    }\n",
              "\n",
              "    .dataframe thead th {\n",
              "        text-align: right;\n",
              "    }\n",
              "</style>\n",
              "<table border=\"1\" class=\"dataframe\">\n",
              "  <thead>\n",
              "    <tr style=\"text-align: right;\">\n",
              "      <th></th>\n",
              "      <th>UserID</th>\n",
              "      <th>Sex</th>\n",
              "      <th>PreviousDefault</th>\n",
              "      <th>FirstName</th>\n",
              "      <th>LastName</th>\n",
              "      <th>NumberPets</th>\n",
              "      <th>PreviousAccounts</th>\n",
              "      <th>ResidenceDuration</th>\n",
              "      <th>Street</th>\n",
              "      <th>LicensePlate</th>\n",
              "      <th>Amount</th>\n",
              "      <th>Married</th>\n",
              "      <th>Duration</th>\n",
              "      <th>City</th>\n",
              "      <th>Purpose</th>\n",
              "      <th>DateOfBirth</th>\n",
              "    </tr>\n",
              "  </thead>\n",
              "  <tbody>\n",
              "    <tr>\n",
              "      <th>0</th>\n",
              "      <td>218-84-8180</td>\n",
              "      <td>F</td>\n",
              "      <td>0</td>\n",
              "      <td>Debra</td>\n",
              "      <td>Schaefer</td>\n",
              "      <td>2</td>\n",
              "      <td>3</td>\n",
              "      <td>1</td>\n",
              "      <td>503 Linda Locks</td>\n",
              "      <td>395C</td>\n",
              "      <td>3907</td>\n",
              "      <td>0</td>\n",
              "      <td>24</td>\n",
              "      <td>Port Keith</td>\n",
              "      <td>Vacation</td>\n",
              "      <td>1964-04-07</td>\n",
              "    </tr>\n",
              "    <tr>\n",
              "      <th>1</th>\n",
              "      <td>395-49-9764</td>\n",
              "      <td>M</td>\n",
              "      <td>0</td>\n",
              "      <td>Derek</td>\n",
              "      <td>Wright</td>\n",
              "      <td>0</td>\n",
              "      <td>1</td>\n",
              "      <td>1</td>\n",
              "      <td>969 Cox Dam Suite 101</td>\n",
              "      <td>UFZ 691</td>\n",
              "      <td>3235</td>\n",
              "      <td>0</td>\n",
              "      <td>12</td>\n",
              "      <td>Lake Debra</td>\n",
              "      <td>NewCar</td>\n",
              "      <td>1978-06-02</td>\n",
              "    </tr>\n",
              "    <tr>\n",
              "      <th>2</th>\n",
              "      <td>892-81-4890</td>\n",
              "      <td>F</td>\n",
              "      <td>0</td>\n",
              "      <td>Shannon</td>\n",
              "      <td>Smith</td>\n",
              "      <td>0</td>\n",
              "      <td>0</td>\n",
              "      <td>2</td>\n",
              "      <td>845 Kelly Estate</td>\n",
              "      <td>48A•281</td>\n",
              "      <td>3108</td>\n",
              "      <td>1</td>\n",
              "      <td>30</td>\n",
              "      <td>North Judithbury</td>\n",
              "      <td>NewCar</td>\n",
              "      <td>1972-03-18</td>\n",
              "    </tr>\n",
              "    <tr>\n",
              "      <th>3</th>\n",
              "      <td>081-11-7963</td>\n",
              "      <td>F</td>\n",
              "      <td>0</td>\n",
              "      <td>Christina</td>\n",
              "      <td>Brooks</td>\n",
              "      <td>2</td>\n",
              "      <td>1</td>\n",
              "      <td>3</td>\n",
              "      <td>809 Burns Creek</td>\n",
              "      <td>30Z J39</td>\n",
              "      <td>4014</td>\n",
              "      <td>1</td>\n",
              "      <td>36</td>\n",
              "      <td>Lake Chad</td>\n",
              "      <td>Other</td>\n",
              "      <td>1985-02-26</td>\n",
              "    </tr>\n",
              "    <tr>\n",
              "      <th>4</th>\n",
              "      <td>347-03-9639</td>\n",
              "      <td>M</td>\n",
              "      <td>0</td>\n",
              "      <td>Ralph</td>\n",
              "      <td>Anderson</td>\n",
              "      <td>1</td>\n",
              "      <td>5</td>\n",
              "      <td>1</td>\n",
              "      <td>248 Brandt Plains Apt. 465</td>\n",
              "      <td>71-Q331</td>\n",
              "      <td>3823</td>\n",
              "      <td>0</td>\n",
              "      <td>18</td>\n",
              "      <td>North Judithbury</td>\n",
              "      <td>Vacation</td>\n",
              "      <td>1983-08-08</td>\n",
              "    </tr>\n",
              "  </tbody>\n",
              "</table>\n",
              "</div>"
            ],
            "text/plain": [
              "        UserID Sex  PreviousDefault  ...              City   Purpose  DateOfBirth\n",
              "0  218-84-8180   F                0  ...        Port Keith  Vacation   1964-04-07\n",
              "1  395-49-9764   M                0  ...        Lake Debra    NewCar   1978-06-02\n",
              "2  892-81-4890   F                0  ...  North Judithbury    NewCar   1972-03-18\n",
              "3  081-11-7963   F                0  ...         Lake Chad     Other   1985-02-26\n",
              "4  347-03-9639   M                0  ...  North Judithbury  Vacation   1983-08-08\n",
              "\n",
              "[5 rows x 16 columns]"
            ]
          },
          "metadata": {
            "tags": []
          },
          "execution_count": 90
        }
      ]
    },
    {
      "cell_type": "code",
      "metadata": {
        "colab": {
          "base_uri": "https://localhost:8080/"
        },
        "id": "cZhN_eHcZ5qQ",
        "outputId": "5da90671-88fb-4a10-bd8e-9ea489d3996d"
      },
      "source": [
        "X.select_dtypes([\"object\"]).nunique() #exploring the categorical features with unique values"
      ],
      "execution_count": null,
      "outputs": [
        {
          "output_type": "execute_result",
          "data": {
            "text/plain": [
              "UserID          6000\n",
              "Sex                2\n",
              "FirstName        600\n",
              "LastName         942\n",
              "Street          6000\n",
              "LicensePlate    5999\n",
              "City              20\n",
              "Purpose            8\n",
              "DateOfBirth     4215\n",
              "dtype: int64"
            ]
          },
          "metadata": {
            "tags": []
          },
          "execution_count": 91
        }
      ]
    },
    {
      "cell_type": "markdown",
      "metadata": {
        "id": "sdiKKblCo53S"
      },
      "source": [
        "## 3.1: Baseline model"
      ]
    },
    {
      "cell_type": "code",
      "metadata": {
        "id": "mSumAZUAo9O6",
        "colab": {
          "base_uri": "https://localhost:8080/"
        },
        "outputId": "b395a8da-3f8a-4d62-ef97-41e77b734ec0"
      },
      "source": [
        "#Pipline 1\n",
        "from sklearn.tree import DecisionTreeClassifier \n",
        "from sklearn.pipeline import Pipeline\n",
        "from sklearn.preprocessing import StandardScaler, OneHotEncoder, FunctionTransformer\n",
        "from sklearn.impute import SimpleImputer\n",
        "from sklearn.compose import ColumnTransformer\n",
        "from sklearn.metrics import classification_report, confusion_matrix\n",
        "from sklearn.model_selection import cross_val_score\n",
        "\n",
        "numeric_features = ['Amount', 'Duration', 'NumberPets', \n",
        "                    'ResidenceDuration', 'Married', 'PreviousAccounts','PreviousDefault']\n",
        "\n",
        "categorical_features = ['City', 'Sex','Purpose']\n",
        "\n",
        "drop_features = ['UserID', 'DateOfBirth', 'FirstName', \"LastName\", \n",
        "                 'Street', 'LicensePlate']\n",
        "\n",
        "clf = DecisionTreeClassifier(random_state=42)\n",
        "\n",
        "numeric_transformer = Pipeline(steps=[\n",
        "    ('imputer', SimpleImputer()),\n",
        "    ('scaler', StandardScaler()),\n",
        "    ])\n",
        "\n",
        "categorical_transformer = Pipeline(steps=[\n",
        "      ('encoder', OneHotEncoder(handle_unknown='ignore')),\n",
        "      ])\n",
        "\n",
        "preprocessor1 = Pipeline(steps=[\n",
        "      ('ct', ColumnTransformer(\n",
        "        transformers=[\n",
        "            ('num', numeric_transformer, numeric_features),\n",
        "            ('cat', categorical_transformer, categorical_features),\n",
        "            ('drop', 'drop', drop_features)],\n",
        "            remainder = 'passthrough', \n",
        "            sparse_threshold=0)),\n",
        "    ])\n",
        "\n",
        "pipe1 = Pipeline(steps=[('preprocessor', preprocessor1),  ('clf', clf)])\n",
        "\n",
        "scores1 = cross_val_score(pipe1, X_train, y_train, \n",
        "                          scoring='f1_macro', cv=10, n_jobs=-1)\n",
        "print(scores1)\n",
        "print(np.mean(scores1))"
      ],
      "execution_count": null,
      "outputs": [
        {
          "output_type": "stream",
          "text": [
            "[0.60335261 0.62309891 0.5425     0.65969125 0.62710811 0.6373402\n",
            " 0.56868105 0.62982277 0.61399851 0.59607293]\n",
            "0.6101666347932755\n"
          ],
          "name": "stdout"
        }
      ]
    },
    {
      "cell_type": "markdown",
      "metadata": {
        "id": "ugyTS51Ko5vz"
      },
      "source": [
        "## 3.2: Feature engineering"
      ]
    },
    {
      "cell_type": "code",
      "metadata": {
        "id": "742aYkYbprVD",
        "colab": {
          "base_uri": "https://localhost:8080/"
        },
        "outputId": "bc65ba81-84ee-4925-9b29-9df1e394cadc"
      },
      "source": [
        "#Pipleline 2\n",
        "from sklearn.tree  import DecisionTreeClassifier\n",
        "from sklearn.pipeline import Pipeline\n",
        "from sklearn.preprocessing import StandardScaler, OneHotEncoder, FunctionTransformer\n",
        "from sklearn.impute import SimpleImputer\n",
        "from sklearn.compose import ColumnTransformer\n",
        "from sklearn.decomposition import KernelPCA, PCA, TruncatedSVD\n",
        "from sklearn.metrics import classification_report, confusion_matrix\n",
        "from sklearn.model_selection import cross_val_score\n",
        "\n",
        "numeric_features = ['Amount', 'Duration', 'NumberPets', \n",
        "                    'ResidenceDuration', 'Married', 'PreviousAccounts','PreviousDefault']\n",
        "\n",
        "categorical_features = ['City', 'Sex','Purpose']\n",
        "\n",
        "drop_features = ['UserID', 'FirstName', \"LastName\", \n",
        "                 'Street', 'LicensePlate']\n",
        "\n",
        "def get_age_years(feature):\n",
        "  res = np.array([])\n",
        "  for instance in feature:\n",
        "    age = 2021 - int(instance[0:4])\n",
        "    res = np.append(res, age)\n",
        "  return res.reshape(-1, 1)\n",
        "\n",
        "clf = DecisionTreeClassifier(random_state=42)\n",
        "\n",
        "numeric_transformer = Pipeline(steps=[\n",
        "    ('imputer', SimpleImputer()),\n",
        "    ('scaler', StandardScaler()),\n",
        "    ])\n",
        "\n",
        "categorical_transformer = Pipeline(steps=[\n",
        "      ('encoder', OneHotEncoder(handle_unknown='ignore')),\n",
        "      ])\n",
        "\n",
        "preprocessor2 = Pipeline(steps=[\n",
        "      ('ct', ColumnTransformer(\n",
        "        transformers=[\n",
        "            ('num', numeric_transformer, numeric_features),\n",
        "            ('amount_log', FunctionTransformer(np.log10, validate=False), ['Amount']),\n",
        "            ('cat', categorical_transformer, categorical_features),\n",
        "            ('age', FunctionTransformer(get_age_years, validate=False), 'DateOfBirth'),\n",
        "            ('drop', 'drop', drop_features)],\n",
        "            remainder = 'passthrough', \n",
        "            sparse_threshold=0)),\n",
        "    ('pca', PCA(n_components=10)),\n",
        "    ])\n",
        "\n",
        "pipe2 = Pipeline(steps=[('preprocessor', preprocessor2),  ('clf', clf)])\n",
        "\n",
        "scores2 = cross_val_score(pipe2, X_train, y_train, \n",
        "                          scoring='f1_macro', cv=10, n_jobs=-1)\n",
        "print(scores2)\n",
        "print(np.mean(scores2))"
      ],
      "execution_count": null,
      "outputs": [
        {
          "output_type": "stream",
          "text": [
            "[0.75592531 0.76345083 0.71366221 0.715      0.73526167 0.69160235\n",
            " 0.76013516 0.72624375 0.67917973 0.72345679]\n",
            "0.7263917812460762\n"
          ],
          "name": "stdout"
        }
      ]
    },
    {
      "cell_type": "markdown",
      "metadata": {
        "id": "PsdD0clko5pz"
      },
      "source": [
        "## 3.3: Feature selection"
      ]
    },
    {
      "cell_type": "code",
      "metadata": {
        "id": "rxX2ERqzpqxi",
        "colab": {
          "base_uri": "https://localhost:8080/"
        },
        "outputId": "a282d700-11d6-43bf-e688-441416922d29"
      },
      "source": [
        "#pipline 3\n",
        "from sklearn.tree import DecisionTreeClassifier\n",
        "from sklearn.pipeline import Pipeline\n",
        "from sklearn.preprocessing import StandardScaler, OneHotEncoder, FunctionTransformer\n",
        "from sklearn.impute import SimpleImputer\n",
        "from sklearn.compose import ColumnTransformer\n",
        "from sklearn.feature_selection import SelectKBest\n",
        "from sklearn.decomposition import KernelPCA, PCA, TruncatedSVD\n",
        "from sklearn.metrics import classification_report, confusion_matrix\n",
        "from sklearn.model_selection import cross_val_score\n",
        "\n",
        "numeric_features = ['Amount', 'Duration', 'NumberPets', \n",
        "                    'ResidenceDuration', 'Married', 'PreviousAccounts','PreviousDefault']\n",
        "\n",
        "categorical_features = ['City', 'Sex','Purpose']\n",
        "\n",
        "drop_features = ['UserID', 'FirstName', \"LastName\", \n",
        "                 'Street', 'LicensePlate']\n",
        "\n",
        "def get_age_years(feature):\n",
        "  res = np.array([])\n",
        "  for instance in feature:\n",
        "    age = 2021 - int(instance[0:4])\n",
        "    res = np.append(res, age)\n",
        "  return res.reshape(-1, 1)\n",
        "\n",
        "clf = DecisionTreeClassifier(random_state=42)\n",
        "\n",
        "numeric_transformer = Pipeline(steps=[\n",
        "    ('imputer', SimpleImputer()),\n",
        "    ('scaler', StandardScaler()),\n",
        "    ])\n",
        "\n",
        "categorical_transformer = Pipeline(steps=[\n",
        "      ('encoder', OneHotEncoder(handle_unknown='ignore')),\n",
        "      ])\n",
        "\n",
        "preprocessor3 = Pipeline(steps=[\n",
        "      ('ct', ColumnTransformer(\n",
        "        transformers=[\n",
        "            ('num', numeric_transformer, numeric_features),\n",
        "            ('amount_log', FunctionTransformer(np.log10, validate=False), ['Amount']),\n",
        "            ('cat', categorical_transformer, categorical_features),\n",
        "            ('age', FunctionTransformer(get_age_years, validate=False), 'DateOfBirth'),\n",
        "            ('drop', 'drop', drop_features)],\n",
        "            remainder = 'passthrough', \n",
        "            sparse_threshold=0)),\n",
        "    ('pca', PCA(n_components=11)),\n",
        "    ('feature_selector', SelectKBest(k=11))\n",
        "    ])\n",
        "\n",
        "pipe3 = Pipeline(steps=[('preprocessor', preprocessor3),  ('clf', clf)])\n",
        "\n",
        "scores3 = cross_val_score(pipe3, X_train, y_train, \n",
        "                          scoring='f1_macro', cv=11, n_jobs=-1)\n",
        "print(scores3)\n",
        "print(np.mean(scores3))"
      ],
      "execution_count": null,
      "outputs": [
        {
          "output_type": "stream",
          "text": [
            "[0.77267998 0.68704504 0.70162815 0.71154564 0.69964453 0.71658371\n",
            " 0.72675834 0.72398075 0.73429363 0.69674839 0.6971638 ]\n",
            "0.7152792715355275\n"
          ],
          "name": "stdout"
        }
      ]
    },
    {
      "cell_type": "markdown",
      "metadata": {
        "id": "Ff4l2aNKo5fr"
      },
      "source": [
        "## 3.4: Hyperparameter tuning"
      ]
    },
    {
      "cell_type": "code",
      "metadata": {
        "id": "7XaxtTWMpIpP",
        "colab": {
          "base_uri": "https://localhost:8080/"
        },
        "outputId": "43a99102-cd30-4681-a69d-95db3cb33c81"
      },
      "source": [
        "#Pipline 4\n",
        "from sklearn.tree import DecisionTreeClassifier\n",
        "from sklearn.pipeline import Pipeline\n",
        "from sklearn.preprocessing import StandardScaler, OneHotEncoder, FunctionTransformer\n",
        "from sklearn.impute import SimpleImputer\n",
        "from sklearn.compose import ColumnTransformer\n",
        "from sklearn.feature_selection import SelectKBest\n",
        "from sklearn.metrics import classification_report, confusion_matrix\n",
        "from sklearn.model_selection import cross_val_score, GridSearchCV\n",
        "\n",
        "numeric_features = ['Amount', 'Duration', 'NumberPets', \n",
        "                    'ResidenceDuration', 'Married', 'PreviousAccounts','PreviousDefault']\n",
        "\n",
        "categorical_features = ['City', 'Sex','Purpose']\n",
        "\n",
        "drop_features = ['UserID', 'FirstName', \"LastName\", \n",
        "                 'Street', 'LicensePlate']\n",
        "\n",
        "\n",
        "def get_age_years(feature):\n",
        "  res = np.array([])\n",
        "  for instance in feature:\n",
        "    age = 2021 - int(instance[0:4])\n",
        "    res = np.append(res, age)\n",
        "  return res.reshape(-1, 1)\n",
        "\n",
        "clf = DecisionTreeClassifier(random_state=42)\n",
        "\n",
        "numeric_transformer = Pipeline(steps=[\n",
        "    ('imputer', SimpleImputer()),\n",
        "    ('scaler', StandardScaler()),\n",
        "    ])\n",
        "\n",
        "categorical_transformer = Pipeline(steps=[\n",
        "      ('encoder', OneHotEncoder(handle_unknown='ignore')),\n",
        "      ])\n",
        "\n",
        "preprocessor4 = Pipeline(steps=[\n",
        "      ('ct', ColumnTransformer(\n",
        "        transformers=[\n",
        "            ('num', numeric_transformer, numeric_features),\n",
        "            ('amount_log', FunctionTransformer(np.log10, validate=False), ['Amount']),\n",
        "            ('cat', categorical_transformer, categorical_features),\n",
        "            ('age', FunctionTransformer(get_age_years, validate=False), 'DateOfBirth'),\n",
        "            ('drop', 'drop', drop_features)],\n",
        "            remainder = 'passthrough', \n",
        "            sparse_threshold=0)),\n",
        "      ('feature_selector', SelectKBest(k=10)),\n",
        "    ])\n",
        "\n",
        "pipe4 = Pipeline(steps=[('preprocessor', preprocessor4),  ('clf', clf)])\n",
        "\n",
        "param_grid = {\n",
        "    'preprocessor__ct__num__scaler__with_mean': [True, False],\n",
        "    'preprocessor__ct__num__scaler__with_std': [True, False],\n",
        "    'preprocessor__feature_selector__k': [2,4,6,8,10],\n",
        "    'clf__max_depth': [None, 3, 5, 7, 9, 11, 13],\n",
        "    'clf__criterion': ['gini', 'entropy'], \n",
        "    'clf__class_weight':[None, 'balanced'],\n",
        "}\n",
        "\n",
        "pipe4 = GridSearchCV(pipe4, param_grid, cv=10, n_jobs=-1, \n",
        "                     scoring='f1_macro', return_train_score=True, verbose=2)\n",
        "\n",
        "pipe4 = pipe4.fit(X_train, y_train)\n",
        "\n",
        "print(pipe4.best_score_)\n",
        "print(pipe4.best_params_)"
      ],
      "execution_count": null,
      "outputs": [
        {
          "output_type": "stream",
          "text": [
            "Fitting 10 folds for each of 560 candidates, totalling 5600 fits\n"
          ],
          "name": "stdout"
        },
        {
          "output_type": "stream",
          "text": [
            "[Parallel(n_jobs=-1)]: Using backend LokyBackend with 2 concurrent workers.\n",
            "[Parallel(n_jobs=-1)]: Done  37 tasks      | elapsed:    4.3s\n",
            "[Parallel(n_jobs=-1)]: Done 158 tasks      | elapsed:   18.4s\n",
            "[Parallel(n_jobs=-1)]: Done 361 tasks      | elapsed:   40.9s\n",
            "[Parallel(n_jobs=-1)]: Done 644 tasks      | elapsed:  1.2min\n",
            "[Parallel(n_jobs=-1)]: Done 1009 tasks      | elapsed:  1.9min\n",
            "[Parallel(n_jobs=-1)]: Done 1454 tasks      | elapsed:  2.7min\n",
            "[Parallel(n_jobs=-1)]: Done 1981 tasks      | elapsed:  3.7min\n",
            "[Parallel(n_jobs=-1)]: Done 2588 tasks      | elapsed:  4.9min\n",
            "[Parallel(n_jobs=-1)]: Done 3277 tasks      | elapsed:  6.2min\n",
            "[Parallel(n_jobs=-1)]: Done 4046 tasks      | elapsed:  7.7min\n",
            "[Parallel(n_jobs=-1)]: Done 4897 tasks      | elapsed:  9.3min\n"
          ],
          "name": "stderr"
        },
        {
          "output_type": "stream",
          "text": [
            "0.7773262216708957\n",
            "{'clf__class_weight': 'balanced', 'clf__criterion': 'gini', 'clf__max_depth': 5, 'preprocessor__ct__num__scaler__with_mean': True, 'preprocessor__ct__num__scaler__with_std': True, 'preprocessor__feature_selector__k': 2}\n"
          ],
          "name": "stdout"
        },
        {
          "output_type": "stream",
          "text": [
            "[Parallel(n_jobs=-1)]: Done 5600 out of 5600 | elapsed: 10.7min finished\n"
          ],
          "name": "stderr"
        }
      ]
    },
    {
      "cell_type": "markdown",
      "metadata": {
        "id": "Te9gGGLEpXRG"
      },
      "source": [
        "## 3.5: Performance estimation"
      ]
    },
    {
      "cell_type": "code",
      "metadata": {
        "id": "YV_35bEupbfs"
      },
      "source": [
        "from sklearn.metrics import f1_score, classification_report"
      ],
      "execution_count": null,
      "outputs": []
    },
    {
      "cell_type": "code",
      "metadata": {
        "id": "b1gdEnGrxxK7",
        "colab": {
          "base_uri": "https://localhost:8080/"
        },
        "outputId": "40e65217-447c-4800-ee3b-81033396cc1f"
      },
      "source": [
        "y_pred = pipe4.predict(X_test)\n",
        "print(confusion_matrix(y_test,y_pred))\n",
        "print(classification_report(y_test,y_pred))"
      ],
      "execution_count": null,
      "outputs": [
        {
          "output_type": "stream",
          "text": [
            "[[865 126]\n",
            " [ 37 172]]\n",
            "              precision    recall  f1-score   support\n",
            "\n",
            "           0       0.96      0.87      0.91       991\n",
            "           1       0.58      0.82      0.68       209\n",
            "\n",
            "    accuracy                           0.86      1200\n",
            "   macro avg       0.77      0.85      0.80      1200\n",
            "weighted avg       0.89      0.86      0.87      1200\n",
            "\n"
          ],
          "name": "stdout"
        }
      ]
    },
    {
      "cell_type": "markdown",
      "metadata": {
        "id": "bPiErnUaTQSk"
      },
      "source": [
        "# Question 4: Uncle Steve's Wind Farm"
      ]
    },
    {
      "cell_type": "markdown",
      "metadata": {
        "id": "NzLLQCmKTk9E"
      },
      "source": [
        "## Instructions\n",
        "\n",
        "\n",
        "Uncle Steve has invested in wind. He's built a BIG wind farm with a total of  700 turbines. He's been running the farm for a couple of years now and things are going well. He sells the power generated by the farm to the Kingston government and makes a tidy profit. And, of course, he has been gathering data about the turbines' operations.\n",
        "\n",
        "One area of concern, however, is the cost of maintenece. While the turbines are fairly robust, it seems like one breaks/fails every couple of days. When a turbine fails, it usually costs around \\$20,000 to repair it. Yikes!\n",
        "\n",
        "Currently, Uncle Steve is not doing any preventative maintenance. He just waits until a turbine fails, and then he fixes it. But Uncle Steve has recently learned that if he services a turbine *before* it fails, it will only cost around $2,000. \n",
        "\n",
        "Obviously, there is a potential to save a lot of money here. But first, Uncle Steve would need to figure out *which* turbines are about to fail. Uncle Steve being Uncle Steve, he wants to use ML to build a predictive maintenance model. The model will alert Uncle Steve to potential turbine failures before they happen, giving Uncle Steve a chance to perform an inspection on the turbine and then fix the turbine before it fails. Uncle Steve plans to run the model every morning. For all the turbines that the model predicts will fail, Uncle Steve will order an inspection (which cost a flat \\$500, no matter if the turbine was in good health or not; the \\$500 would not be part of the $2,000 service cost). For the rest of the turbines, Uncle Steve will do nothing.\n",
        "\n",
        "Uncle Steve has used the last few year's worth of operation data to build and assess a model to predict which turbines will fail on any given day. (The data includes useful features like sensor readings, power output, weather, and many more, but those are not important for now.) In fact, he didn't stop there: he built and assessed two models. One model uses using deep learning (in this case, RNNs), and the other uses random forests.\n",
        "\n",
        "He's tuned the bejeebers out of each model and is comfortable that he has found the best-performing version of each. Both models seem really good: both have accuracy scores > 99%. The RNN has better recall, but Uncle Steve is convinced that the random forest model will be better for him since it has better precision. Just to be sure, he has hired you to double check his calculations. \n",
        "\n",
        "**Your task**\n",
        "\n",
        " Which model will save Uncle Steve more money? Justify.\n",
        "\n",
        "\n",
        "In addition to the details above, here is the assessment of each model:\n",
        "\n",
        "- Confusion matrix for the random forest:\n",
        "\n",
        "|         | Predicted Fail           | Predicted No Fail  |\n",
        "| ------------- |------------| -----:|\n",
        "| **Actual Fail**      | 201 | 55 |\n",
        "| **Actual No Fail**   | 50 | 255195 |\n",
        "\n",
        "- Confusion matrix for the RNN:\n",
        "\n",
        "|         | Predicted Fail           | Predicted No Fail  |\n",
        "| ------------- |------------| -----:|\n",
        "| **Actual Fail**      | 226 | 30 |\n",
        "| **Actual No Fail**   | 1200 | 254045 |\n",
        "\n",
        "\n",
        "**Marking**\n",
        "\n",
        "- *Quality*. Response is well-justified and convincing. \n",
        "- *Style*. Response uses proper grammar, spelling, and punctuation. Response is clear and professional. Response is complete, but not overly-verbose. Response follows length guidelines.\n",
        "\n",
        "\n",
        "\n",
        "**Tips**\n",
        "\n",
        "- Figure out how much Uncle Steve is currently (i.e., without any predictive maintinance models) paying in maintenance costs.\n",
        "- Use the information provided above to create a cost matrix.\n",
        "- Use the cost matrix and the confusion matrices to determine the costs of each model.\n",
        "- The cost of an inspection is the same, no matter if the turbine is in good condition or is about to fail.\n",
        "- If the inspection determines that a turbine is about to fail, then it will be fixed right then and there for the additional fee.\n",
        "- For simplicity, assume the inspections are perfect: i.e., that inspecting a turbine will definitely catch any problems that might exist, and won't accidentally flag an otherwise-healthy turbine.\n",
        "\n"
      ]
    },
    {
      "cell_type": "markdown",
      "metadata": {
        "id": "kC8iUGJsIYLj"
      },
      "source": [
        "## Answer\n",
        "\n",
        "Currently, Uncle Steve spends 14,000,000 dollars to fix all 700 turbines when they break or fail every few days. He has been exploring two varying ML models to predict which turbines will fail and treat those at a lesser preventative maintenance cost of 2500 dollars per turbine instead of the usual 20,000 per turbine. \n",
        "\n",
        "After completing the cost matrix for both models, the Random Forest will cost a total of 2,130,000 dollars while the RNN will cost 1,765,000 dollars. Based on the total sums from the cost matrix, the RNN seems more cost-effective. However, Uncle Steve believes Random Forest is the better option due to its higher precision of 80% compared to RNN with a precision of approximately 16%.\n",
        "\n",
        "In my opinion, Uncle Steve’s focus shouldn’t be on precision as it only assesses the percentage of yes predictions that were accurate. The consequence of predicting healthy turbines as unheathy is the flat fee inspection cost of 500 dollars per turbine. Uncle Steve’s focus should be on recall as it is more costly to him if his model inaccurately predicts turbines that will breakor fail in the next few days as healthy. The consequence of this is that these faulty turbines, which the ML model did not accurately predict, will result in inaction on Uncle Steve’s end. This inaction which will cost a total of 20,000 dollars per turbine in maintenance costs when the turbines eventually break down and need to be fixed.\n",
        "\n",
        "The RNN has a recall of 88% while Random Forest has a recall of 78%. As a result, RNN is the better model to deploy as it has a higher recall and will significantly reduce the overall maintenance costs due to its increased ability to predict the actual turbines that will break orfail in the next few days. This will allow for Uncle Steve to spend less money by relying more heavily on preventative maintenance in comparison to the higher maintenance cost he will be subjected to if he waits till after the turbines break.\n"
      ]
    }
  ]
}